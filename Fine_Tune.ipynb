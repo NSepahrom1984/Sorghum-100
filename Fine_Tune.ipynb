{
  "nbformat": 4,
  "nbformat_minor": 0,
  "metadata": {
    "colab": {
      "provenance": []
    },
    "kernelspec": {
      "name": "python3",
      "display_name": "Python 3"
    },
    "language_info": {
      "name": "python"
    },
    "accelerator": "GPU",
    "gpuClass": "standard"
  },
  "cells": [
    {
      "cell_type": "code",
      "execution_count": 1,
      "metadata": {
        "colab": {
          "base_uri": "https://localhost:8080/"
        },
        "id": "KWZ-i7DPMyuR",
        "outputId": "bc9e614e-ec40-401c-e0d9-d09a10d7cbd6"
      },
      "outputs": [
        {
          "output_type": "stream",
          "name": "stdout",
          "text": [
            "Found 2000 files belonging to 2 classes.\n",
            "Found 1000 files belonging to 2 classes.\n",
            "Found 2017 files belonging to 2 classes.\n"
          ]
        }
      ],
      "source": [
        "from tensorflow.keras.utils import image_dataset_from_directory\n",
        "\n",
        "train_dataset = image_dataset_from_directory(\n",
        "    '/content/drive/My Drive/cats_vs_dogs_small/train',\n",
        "    image_size = (180 , 180),\n",
        "    batch_size =32\n",
        ")\n",
        "\n",
        "valdation_dataset = image_dataset_from_directory(\n",
        "    '/content/drive/My Drive/cats_vs_dogs_small/validation',\n",
        "    image_size = (180 , 180),\n",
        "    batch_size =32\n",
        ")\n",
        "\n",
        "test_dataset = image_dataset_from_directory(\n",
        "    '/content/drive/My Drive/cats_vs_dogs_small/test',\n",
        "    image_size = (180 , 180),\n",
        "    batch_size =32\n",
        ")"
      ]
    },
    {
      "cell_type": "code",
      "source": [
        "from tensorflow.python.eager.backprop import flatten_nested_indexed_slices\n",
        "from tensorflow import keras\n",
        "\n",
        "conv_base = keras.applications.vgg16.VGG16(\n",
        "    weights ='imagenet',\n",
        "    include_top = False)\n",
        "\n",
        "conv_base.trainable= False\n",
        "\n",
        "\n"
      ],
      "metadata": {
        "colab": {
          "base_uri": "https://localhost:8080/"
        },
        "id": "0hLZxYxNSKey",
        "outputId": "0665d713-58ae-44b1-a681-8c1cb1eb762d"
      },
      "execution_count": 2,
      "outputs": [
        {
          "output_type": "stream",
          "name": "stdout",
          "text": [
            "Downloading data from https://storage.googleapis.com/tensorflow/keras-applications/vgg16/vgg16_weights_tf_dim_ordering_tf_kernels_notop.h5\n",
            "58889256/58889256 [==============================] - 0s 0us/step\n"
          ]
        }
      ]
    },
    {
      "cell_type": "code",
      "source": [
        "conv_base.summary()"
      ],
      "metadata": {
        "colab": {
          "base_uri": "https://localhost:8080/"
        },
        "id": "w526wjENTTf7",
        "outputId": "722c8ebc-fe52-4ed6-bb20-c081903648af"
      },
      "execution_count": 3,
      "outputs": [
        {
          "output_type": "stream",
          "name": "stdout",
          "text": [
            "Model: \"vgg16\"\n",
            "_________________________________________________________________\n",
            " Layer (type)                Output Shape              Param #   \n",
            "=================================================================\n",
            " input_1 (InputLayer)        [(None, None, None, 3)]   0         \n",
            "                                                                 \n",
            " block1_conv1 (Conv2D)       (None, None, None, 64)    1792      \n",
            "                                                                 \n",
            " block1_conv2 (Conv2D)       (None, None, None, 64)    36928     \n",
            "                                                                 \n",
            " block1_pool (MaxPooling2D)  (None, None, None, 64)    0         \n",
            "                                                                 \n",
            " block2_conv1 (Conv2D)       (None, None, None, 128)   73856     \n",
            "                                                                 \n",
            " block2_conv2 (Conv2D)       (None, None, None, 128)   147584    \n",
            "                                                                 \n",
            " block2_pool (MaxPooling2D)  (None, None, None, 128)   0         \n",
            "                                                                 \n",
            " block3_conv1 (Conv2D)       (None, None, None, 256)   295168    \n",
            "                                                                 \n",
            " block3_conv2 (Conv2D)       (None, None, None, 256)   590080    \n",
            "                                                                 \n",
            " block3_conv3 (Conv2D)       (None, None, None, 256)   590080    \n",
            "                                                                 \n",
            " block3_pool (MaxPooling2D)  (None, None, None, 256)   0         \n",
            "                                                                 \n",
            " block4_conv1 (Conv2D)       (None, None, None, 512)   1180160   \n",
            "                                                                 \n",
            " block4_conv2 (Conv2D)       (None, None, None, 512)   2359808   \n",
            "                                                                 \n",
            " block4_conv3 (Conv2D)       (None, None, None, 512)   2359808   \n",
            "                                                                 \n",
            " block4_pool (MaxPooling2D)  (None, None, None, 512)   0         \n",
            "                                                                 \n",
            " block5_conv1 (Conv2D)       (None, None, None, 512)   2359808   \n",
            "                                                                 \n",
            " block5_conv2 (Conv2D)       (None, None, None, 512)   2359808   \n",
            "                                                                 \n",
            " block5_conv3 (Conv2D)       (None, None, None, 512)   2359808   \n",
            "                                                                 \n",
            " block5_pool (MaxPooling2D)  (None, None, None, 512)   0         \n",
            "                                                                 \n",
            "=================================================================\n",
            "Total params: 14,714,688\n",
            "Trainable params: 0\n",
            "Non-trainable params: 14,714,688\n",
            "_________________________________________________________________\n"
          ]
        }
      ]
    },
    {
      "cell_type": "code",
      "source": [
        "conv_base.trainable = True\n",
        "\n",
        "print(len(conv_base.trainable_weights))"
      ],
      "metadata": {
        "colab": {
          "base_uri": "https://localhost:8080/"
        },
        "id": "iS97Il0gTU82",
        "outputId": "70108409-b64b-4c86-e101-763bbf1c80c9"
      },
      "execution_count": 4,
      "outputs": [
        {
          "output_type": "stream",
          "name": "stdout",
          "text": [
            "26\n"
          ]
        }
      ]
    },
    {
      "cell_type": "code",
      "source": [
        "conv_base.trainable = False\n",
        "\n",
        "print(len(conv_base.trainable_weights))"
      ],
      "metadata": {
        "colab": {
          "base_uri": "https://localhost:8080/"
        },
        "id": "MOFKRyi7Tt9p",
        "outputId": "21d427b3-2ea3-4e00-ac08-bcbfb5071303"
      },
      "execution_count": 5,
      "outputs": [
        {
          "output_type": "stream",
          "name": "stdout",
          "text": [
            "0\n"
          ]
        }
      ]
    },
    {
      "cell_type": "code",
      "source": [
        "from keras import layers\n",
        "\n",
        "data_augmentation = keras.Sequential(\n",
        "    [\n",
        "        layers.RandomFlip(\"horizontal\"),\n",
        "        layers.RandomRotation(0.1),\n",
        "        layers.RandomZoom(0.2)\n",
        "    ]\n",
        ")\n",
        "\n",
        "inputs = keras.Input(shape = (180, 180 ,3))\n",
        "\n",
        "x = data_augmentation(inputs)\n",
        "x = keras.applications.vgg16.preprocess_input(x)\n",
        "\n",
        "x = conv_base(x)\n",
        "x = layers.Flatten()(x)\n",
        "x = layers.Dense(256)(x)\n",
        "x = layers.Dropout(0.5)(x)\n",
        "\n",
        "outputs = layers.Dense(1 , activation = \"sigmoid\")(x)\n",
        "\n",
        "model = keras.Model(inputs , outputs)\n",
        "\n",
        "model.compile (loss = \"binary_crossentropy\" ,\n",
        "               optimizer = 'rmsprop' ,\n",
        "               metrics= [\"accuracy\"])\n",
        "\n",
        "callbacks = [\n",
        "    keras.callbacks.ModelCheckpoint(\n",
        "        filepath = \"feturesWithAug.keras\",\n",
        "        save_best_only = True,\n",
        "        monitor = \"val_loss\"\n",
        "    )\n",
        "\n",
        "\n",
        "]\n"
      ],
      "metadata": {
        "colab": {
          "base_uri": "https://localhost:8080/"
        },
        "id": "btNIdPpYT0qH",
        "outputId": "da3ff955-09e8-4216-cdb9-c07282ede1d2"
      },
      "execution_count": 7,
      "outputs": [
        {
          "output_type": "stream",
          "name": "stderr",
          "text": [
            "WARNING:tensorflow:Using a while_loop for converting RngReadAndSkip cause there is no registered converter for this op.\n",
            "WARNING:tensorflow:Using a while_loop for converting Bitcast cause there is no registered converter for this op.\n",
            "WARNING:tensorflow:Using a while_loop for converting Bitcast cause there is no registered converter for this op.\n",
            "WARNING:tensorflow:Using a while_loop for converting StatelessRandomUniformV2 cause there is no registered converter for this op.\n",
            "WARNING:tensorflow:Using a while_loop for converting ImageProjectiveTransformV3 cause there is no registered converter for this op.\n",
            "WARNING:tensorflow:Using a while_loop for converting RngReadAndSkip cause there is no registered converter for this op.\n",
            "WARNING:tensorflow:Using a while_loop for converting Bitcast cause there is no registered converter for this op.\n",
            "WARNING:tensorflow:Using a while_loop for converting Bitcast cause there is no registered converter for this op.\n",
            "WARNING:tensorflow:Using a while_loop for converting StatelessRandomUniformV2 cause there is no registered converter for this op.\n",
            "WARNING:tensorflow:Using a while_loop for converting ImageProjectiveTransformV3 cause there is no registered converter for this op.\n",
            "WARNING:tensorflow:Using a while_loop for converting RngReadAndSkip cause there is no registered converter for this op.\n",
            "WARNING:tensorflow:Using a while_loop for converting Bitcast cause there is no registered converter for this op.\n",
            "WARNING:tensorflow:Using a while_loop for converting Bitcast cause there is no registered converter for this op.\n",
            "WARNING:tensorflow:Using a while_loop for converting StatelessRandomUniformV2 cause there is no registered converter for this op.\n",
            "WARNING:tensorflow:Using a while_loop for converting ImageProjectiveTransformV3 cause there is no registered converter for this op.\n",
            "WARNING:tensorflow:Using a while_loop for converting RngReadAndSkip cause there is no registered converter for this op.\n",
            "WARNING:tensorflow:Using a while_loop for converting Bitcast cause there is no registered converter for this op.\n",
            "WARNING:tensorflow:Using a while_loop for converting Bitcast cause there is no registered converter for this op.\n",
            "WARNING:tensorflow:Using a while_loop for converting StatelessRandomUniformV2 cause there is no registered converter for this op.\n",
            "WARNING:tensorflow:Using a while_loop for converting ImageProjectiveTransformV3 cause there is no registered converter for this op.\n"
          ]
        }
      ]
    },
    {
      "cell_type": "code",
      "source": [
        "history = model.fit (\n",
        "    train_dataset,\n",
        "    epochs= 50,\n",
        "    validation_data = valdation_dataset,\n",
        "    callbacks = callbacks)\n",
        "\n"
      ],
      "metadata": {
        "colab": {
          "base_uri": "https://localhost:8080/"
        },
        "id": "D7Q5S9qgYHL0",
        "outputId": "56a871e6-a4b6-4d28-a5f0-4f756349a7b5"
      },
      "execution_count": 9,
      "outputs": [
        {
          "output_type": "stream",
          "name": "stdout",
          "text": [
            "Epoch 1/50\n"
          ]
        },
        {
          "output_type": "stream",
          "name": "stderr",
          "text": [
            "WARNING:tensorflow:Using a while_loop for converting RngReadAndSkip cause there is no registered converter for this op.\n",
            "WARNING:tensorflow:Using a while_loop for converting Bitcast cause there is no registered converter for this op.\n",
            "WARNING:tensorflow:Using a while_loop for converting Bitcast cause there is no registered converter for this op.\n",
            "WARNING:tensorflow:Using a while_loop for converting StatelessRandomUniformV2 cause there is no registered converter for this op.\n",
            "WARNING:tensorflow:Using a while_loop for converting ImageProjectiveTransformV3 cause there is no registered converter for this op.\n",
            "WARNING:tensorflow:Using a while_loop for converting RngReadAndSkip cause there is no registered converter for this op.\n",
            "WARNING:tensorflow:Using a while_loop for converting Bitcast cause there is no registered converter for this op.\n",
            "WARNING:tensorflow:Using a while_loop for converting Bitcast cause there is no registered converter for this op.\n",
            "WARNING:tensorflow:Using a while_loop for converting StatelessRandomUniformV2 cause there is no registered converter for this op.\n",
            "WARNING:tensorflow:Using a while_loop for converting ImageProjectiveTransformV3 cause there is no registered converter for this op.\n",
            "WARNING:tensorflow:Using a while_loop for converting RngReadAndSkip cause there is no registered converter for this op.\n",
            "WARNING:tensorflow:Using a while_loop for converting Bitcast cause there is no registered converter for this op.\n",
            "WARNING:tensorflow:Using a while_loop for converting Bitcast cause there is no registered converter for this op.\n",
            "WARNING:tensorflow:Using a while_loop for converting StatelessRandomUniformV2 cause there is no registered converter for this op.\n",
            "WARNING:tensorflow:Using a while_loop for converting ImageProjectiveTransformV3 cause there is no registered converter for this op.\n",
            "WARNING:tensorflow:Using a while_loop for converting RngReadAndSkip cause there is no registered converter for this op.\n",
            "WARNING:tensorflow:Using a while_loop for converting Bitcast cause there is no registered converter for this op.\n",
            "WARNING:tensorflow:Using a while_loop for converting Bitcast cause there is no registered converter for this op.\n",
            "WARNING:tensorflow:Using a while_loop for converting StatelessRandomUniformV2 cause there is no registered converter for this op.\n",
            "WARNING:tensorflow:Using a while_loop for converting ImageProjectiveTransformV3 cause there is no registered converter for this op.\n"
          ]
        },
        {
          "output_type": "stream",
          "name": "stdout",
          "text": [
            "63/63 [==============================] - 426s 6s/step - loss: 21.9355 - accuracy: 0.9000 - val_loss: 13.0559 - val_accuracy: 0.9290\n",
            "Epoch 2/50\n",
            "63/63 [==============================] - 19s 299ms/step - loss: 6.6789 - accuracy: 0.9495 - val_loss: 3.3168 - val_accuracy: 0.9730\n",
            "Epoch 3/50\n",
            "63/63 [==============================] - 20s 313ms/step - loss: 4.9564 - accuracy: 0.9605 - val_loss: 3.1434 - val_accuracy: 0.9770\n",
            "Epoch 4/50\n",
            "63/63 [==============================] - 19s 300ms/step - loss: 5.8143 - accuracy: 0.9595 - val_loss: 5.0746 - val_accuracy: 0.9680\n",
            "Epoch 5/50\n",
            "63/63 [==============================] - 20s 314ms/step - loss: 3.6905 - accuracy: 0.9715 - val_loss: 4.3628 - val_accuracy: 0.9760\n",
            "Epoch 6/50\n",
            "63/63 [==============================] - 19s 302ms/step - loss: 2.2512 - accuracy: 0.9760 - val_loss: 4.1835 - val_accuracy: 0.9710\n",
            "Epoch 7/50\n",
            "63/63 [==============================] - 20s 309ms/step - loss: 2.7537 - accuracy: 0.9790 - val_loss: 6.2294 - val_accuracy: 0.9750\n",
            "Epoch 8/50\n",
            "63/63 [==============================] - 20s 304ms/step - loss: 3.0023 - accuracy: 0.9785 - val_loss: 7.8537 - val_accuracy: 0.9660\n",
            "Epoch 9/50\n",
            "63/63 [==============================] - 21s 333ms/step - loss: 2.6594 - accuracy: 0.9755 - val_loss: 5.0622 - val_accuracy: 0.9750\n",
            "Epoch 10/50\n",
            "63/63 [==============================] - 24s 371ms/step - loss: 1.4469 - accuracy: 0.9855 - val_loss: 4.3998 - val_accuracy: 0.9740\n",
            "Epoch 11/50\n",
            "63/63 [==============================] - 23s 360ms/step - loss: 1.3977 - accuracy: 0.9825 - val_loss: 4.3396 - val_accuracy: 0.9770\n",
            "Epoch 12/50\n",
            "63/63 [==============================] - 22s 342ms/step - loss: 2.8323 - accuracy: 0.9770 - val_loss: 3.2546 - val_accuracy: 0.9810\n",
            "Epoch 13/50\n",
            "63/63 [==============================] - 19s 301ms/step - loss: 1.6027 - accuracy: 0.9835 - val_loss: 3.3691 - val_accuracy: 0.9800\n",
            "Epoch 14/50\n",
            "63/63 [==============================] - 20s 306ms/step - loss: 1.8365 - accuracy: 0.9830 - val_loss: 3.7565 - val_accuracy: 0.9790\n",
            "Epoch 15/50\n",
            "63/63 [==============================] - 20s 305ms/step - loss: 1.7740 - accuracy: 0.9870 - val_loss: 2.6182 - val_accuracy: 0.9840\n",
            "Epoch 16/50\n",
            "63/63 [==============================] - 21s 334ms/step - loss: 1.0498 - accuracy: 0.9880 - val_loss: 3.4776 - val_accuracy: 0.9810\n",
            "Epoch 17/50\n",
            "63/63 [==============================] - 19s 300ms/step - loss: 1.5561 - accuracy: 0.9830 - val_loss: 4.3262 - val_accuracy: 0.9780\n",
            "Epoch 18/50\n",
            "63/63 [==============================] - 21s 331ms/step - loss: 1.3790 - accuracy: 0.9870 - val_loss: 5.2026 - val_accuracy: 0.9720\n",
            "Epoch 19/50\n",
            "63/63 [==============================] - 21s 319ms/step - loss: 1.2122 - accuracy: 0.9855 - val_loss: 3.1169 - val_accuracy: 0.9790\n",
            "Epoch 20/50\n",
            "63/63 [==============================] - 20s 316ms/step - loss: 0.9220 - accuracy: 0.9925 - val_loss: 3.3675 - val_accuracy: 0.9810\n",
            "Epoch 21/50\n",
            "63/63 [==============================] - 21s 333ms/step - loss: 1.5391 - accuracy: 0.9905 - val_loss: 3.4463 - val_accuracy: 0.9790\n",
            "Epoch 22/50\n",
            "63/63 [==============================] - 20s 315ms/step - loss: 0.8273 - accuracy: 0.9900 - val_loss: 5.0653 - val_accuracy: 0.9750\n",
            "Epoch 23/50\n",
            "63/63 [==============================] - 19s 299ms/step - loss: 1.4267 - accuracy: 0.9870 - val_loss: 3.6086 - val_accuracy: 0.9800\n",
            "Epoch 24/50\n",
            "63/63 [==============================] - 21s 330ms/step - loss: 0.6557 - accuracy: 0.9905 - val_loss: 5.4247 - val_accuracy: 0.9720\n",
            "Epoch 25/50\n",
            "63/63 [==============================] - 19s 302ms/step - loss: 1.0979 - accuracy: 0.9895 - val_loss: 3.2579 - val_accuracy: 0.9800\n",
            "Epoch 26/50\n",
            "63/63 [==============================] - 20s 313ms/step - loss: 0.5600 - accuracy: 0.9935 - val_loss: 3.7355 - val_accuracy: 0.9800\n",
            "Epoch 27/50\n",
            "63/63 [==============================] - 19s 299ms/step - loss: 0.5842 - accuracy: 0.9930 - val_loss: 4.2169 - val_accuracy: 0.9810\n",
            "Epoch 28/50\n",
            "63/63 [==============================] - 19s 298ms/step - loss: 0.9059 - accuracy: 0.9885 - val_loss: 4.0781 - val_accuracy: 0.9810\n",
            "Epoch 29/50\n",
            "63/63 [==============================] - 20s 301ms/step - loss: 0.5421 - accuracy: 0.9930 - val_loss: 4.8405 - val_accuracy: 0.9790\n",
            "Epoch 30/50\n",
            "63/63 [==============================] - 19s 303ms/step - loss: 0.4274 - accuracy: 0.9945 - val_loss: 4.0466 - val_accuracy: 0.9820\n",
            "Epoch 31/50\n",
            "63/63 [==============================] - 19s 301ms/step - loss: 0.2924 - accuracy: 0.9940 - val_loss: 4.6630 - val_accuracy: 0.9770\n",
            "Epoch 32/50\n",
            "63/63 [==============================] - 21s 329ms/step - loss: 0.9823 - accuracy: 0.9900 - val_loss: 5.0080 - val_accuracy: 0.9740\n",
            "Epoch 33/50\n",
            "63/63 [==============================] - 20s 314ms/step - loss: 0.8189 - accuracy: 0.9905 - val_loss: 3.6552 - val_accuracy: 0.9770\n",
            "Epoch 34/50\n",
            "63/63 [==============================] - 19s 299ms/step - loss: 0.7049 - accuracy: 0.9950 - val_loss: 3.6357 - val_accuracy: 0.9800\n",
            "Epoch 35/50\n",
            "63/63 [==============================] - 21s 330ms/step - loss: 0.6503 - accuracy: 0.9930 - val_loss: 3.5739 - val_accuracy: 0.9790\n",
            "Epoch 36/50\n",
            "63/63 [==============================] - 19s 299ms/step - loss: 0.5268 - accuracy: 0.9935 - val_loss: 3.1446 - val_accuracy: 0.9840\n",
            "Epoch 37/50\n",
            "63/63 [==============================] - 20s 312ms/step - loss: 0.4098 - accuracy: 0.9935 - val_loss: 3.4954 - val_accuracy: 0.9760\n",
            "Epoch 38/50\n",
            "63/63 [==============================] - 20s 303ms/step - loss: 0.3042 - accuracy: 0.9935 - val_loss: 3.2219 - val_accuracy: 0.9800\n",
            "Epoch 39/50\n",
            "63/63 [==============================] - 20s 303ms/step - loss: 0.6337 - accuracy: 0.9915 - val_loss: 3.7594 - val_accuracy: 0.9790\n",
            "Epoch 40/50\n",
            "63/63 [==============================] - 19s 301ms/step - loss: 0.6523 - accuracy: 0.9910 - val_loss: 2.5635 - val_accuracy: 0.9820\n",
            "Epoch 41/50\n",
            "63/63 [==============================] - 21s 331ms/step - loss: 1.1503 - accuracy: 0.9880 - val_loss: 2.4828 - val_accuracy: 0.9800\n",
            "Epoch 42/50\n",
            "63/63 [==============================] - 19s 301ms/step - loss: 0.4731 - accuracy: 0.9930 - val_loss: 3.4987 - val_accuracy: 0.9760\n",
            "Epoch 43/50\n",
            "63/63 [==============================] - 20s 303ms/step - loss: 0.4107 - accuracy: 0.9945 - val_loss: 3.3569 - val_accuracy: 0.9790\n",
            "Epoch 44/50\n",
            "63/63 [==============================] - 19s 300ms/step - loss: 0.4619 - accuracy: 0.9925 - val_loss: 3.5651 - val_accuracy: 0.9800\n",
            "Epoch 45/50\n",
            "63/63 [==============================] - 21s 328ms/step - loss: 0.4278 - accuracy: 0.9935 - val_loss: 3.6801 - val_accuracy: 0.9790\n",
            "Epoch 46/50\n",
            "63/63 [==============================] - 20s 318ms/step - loss: 0.6906 - accuracy: 0.9915 - val_loss: 3.2215 - val_accuracy: 0.9790\n",
            "Epoch 47/50\n",
            "63/63 [==============================] - 19s 301ms/step - loss: 0.3620 - accuracy: 0.9960 - val_loss: 3.0790 - val_accuracy: 0.9830\n",
            "Epoch 48/50\n",
            "63/63 [==============================] - 20s 308ms/step - loss: 0.3347 - accuracy: 0.9935 - val_loss: 3.5285 - val_accuracy: 0.9840\n",
            "Epoch 49/50\n",
            "63/63 [==============================] - 19s 301ms/step - loss: 0.3234 - accuracy: 0.9955 - val_loss: 3.6975 - val_accuracy: 0.9830\n",
            "Epoch 50/50\n",
            "63/63 [==============================] - 21s 328ms/step - loss: 0.5086 - accuracy: 0.9920 - val_loss: 3.3041 - val_accuracy: 0.9820\n"
          ]
        }
      ]
    },
    {
      "cell_type": "code",
      "source": [
        "conv_base.trainable = True\n",
        "\n",
        "for layer in conv_base.layers[:-4]:\n",
        "  layer.trainable = False\n",
        "\n",
        "\n",
        "model.compile(loss = 'binary_crossentropy',\n",
        "              optimizer = keras.optimizers.RMSprop(learning_rate =1e-5),\n",
        "              metrics = [\"accuracy\"])\n",
        "\n",
        "\n",
        "\n"
      ],
      "metadata": {
        "id": "PhU-ouEZYq1i"
      },
      "execution_count": 14,
      "outputs": []
    },
    {
      "cell_type": "code",
      "source": [
        "callbacks = [\n",
        "    keras.callbacks.ModelCheckpoint(\n",
        "        filepath = \"feturesWithFineTuning.keras\",\n",
        "        save_best_only = True,\n",
        "        monitor = \"val_loss\"\n",
        "    )\n",
        "\n",
        "\n",
        "]\n",
        "\n",
        "\n",
        "history = model.fit (\n",
        "    train_dataset,\n",
        "    epochs= 50,\n",
        "    validation_data = valdation_dataset,\n",
        "    callbacks = callbacks)"
      ],
      "metadata": {
        "colab": {
          "base_uri": "https://localhost:8080/"
        },
        "id": "klnGZDGRbqdW",
        "outputId": "87072db5-ce3d-44cc-d99a-8fcdfab07fce"
      },
      "execution_count": 15,
      "outputs": [
        {
          "metadata": {
            "tags": null
          },
          "name": "stdout",
          "output_type": "stream",
          "text": [
            "Epoch 1/50\n"
          ]
        },
        {
          "metadata": {
            "tags": null
          },
          "name": "stderr",
          "output_type": "stream",
          "text": [
            "WARNING:tensorflow:Using a while_loop for converting RngReadAndSkip cause there is no registered converter for this op.\n",
            "WARNING:tensorflow:Using a while_loop for converting Bitcast cause there is no registered converter for this op.\n",
            "WARNING:tensorflow:Using a while_loop for converting Bitcast cause there is no registered converter for this op.\n",
            "WARNING:tensorflow:Using a while_loop for converting StatelessRandomUniformV2 cause there is no registered converter for this op.\n",
            "WARNING:tensorflow:Using a while_loop for converting ImageProjectiveTransformV3 cause there is no registered converter for this op.\n",
            "WARNING:tensorflow:Using a while_loop for converting RngReadAndSkip cause there is no registered converter for this op.\n",
            "WARNING:tensorflow:Using a while_loop for converting Bitcast cause there is no registered converter for this op.\n",
            "WARNING:tensorflow:Using a while_loop for converting Bitcast cause there is no registered converter for this op.\n",
            "WARNING:tensorflow:Using a while_loop for converting StatelessRandomUniformV2 cause there is no registered converter for this op.\n",
            "WARNING:tensorflow:Using a while_loop for converting ImageProjectiveTransformV3 cause there is no registered converter for this op.\n",
            "WARNING:tensorflow:Using a while_loop for converting RngReadAndSkip cause there is no registered converter for this op.\n",
            "WARNING:tensorflow:Using a while_loop for converting Bitcast cause there is no registered converter for this op.\n",
            "WARNING:tensorflow:Using a while_loop for converting Bitcast cause there is no registered converter for this op.\n",
            "WARNING:tensorflow:Using a while_loop for converting StatelessRandomUniformV2 cause there is no registered converter for this op.\n",
            "WARNING:tensorflow:Using a while_loop for converting ImageProjectiveTransformV3 cause there is no registered converter for this op.\n",
            "WARNING:tensorflow:Using a while_loop for converting RngReadAndSkip cause there is no registered converter for this op.\n",
            "WARNING:tensorflow:Using a while_loop for converting Bitcast cause there is no registered converter for this op.\n",
            "WARNING:tensorflow:Using a while_loop for converting Bitcast cause there is no registered converter for this op.\n",
            "WARNING:tensorflow:Using a while_loop for converting StatelessRandomUniformV2 cause there is no registered converter for this op.\n",
            "WARNING:tensorflow:Using a while_loop for converting ImageProjectiveTransformV3 cause there is no registered converter for this op.\n"
          ]
        },
        {
          "output_type": "stream",
          "name": "stdout",
          "text": [
            "63/63 [==============================] - 26s 318ms/step - loss: 3.8415 - accuracy: 0.9665 - val_loss: 2.2890 - val_accuracy: 0.9840\n",
            "Epoch 2/50\n",
            "63/63 [==============================] - 22s 325ms/step - loss: 1.7756 - accuracy: 0.9760 - val_loss: 2.0199 - val_accuracy: 0.9810\n",
            "Epoch 3/50\n",
            "63/63 [==============================] - 23s 353ms/step - loss: 1.8335 - accuracy: 0.9800 - val_loss: 2.1846 - val_accuracy: 0.9760\n",
            "Epoch 4/50\n",
            "63/63 [==============================] - 21s 323ms/step - loss: 0.9412 - accuracy: 0.9830 - val_loss: 1.7162 - val_accuracy: 0.9790\n",
            "Epoch 5/50\n",
            "63/63 [==============================] - 21s 328ms/step - loss: 0.9515 - accuracy: 0.9830 - val_loss: 1.9783 - val_accuracy: 0.9800\n",
            "Epoch 6/50\n",
            "63/63 [==============================] - 22s 346ms/step - loss: 0.9015 - accuracy: 0.9855 - val_loss: 1.9533 - val_accuracy: 0.9780\n",
            "Epoch 7/50\n",
            "63/63 [==============================] - 20s 313ms/step - loss: 0.5758 - accuracy: 0.9875 - val_loss: 1.9821 - val_accuracy: 0.9760\n",
            "Epoch 8/50\n",
            "63/63 [==============================] - 21s 318ms/step - loss: 0.4761 - accuracy: 0.9885 - val_loss: 1.6009 - val_accuracy: 0.9790\n",
            "Epoch 9/50\n",
            "63/63 [==============================] - 20s 304ms/step - loss: 0.5055 - accuracy: 0.9870 - val_loss: 2.4050 - val_accuracy: 0.9760\n",
            "Epoch 10/50\n",
            "63/63 [==============================] - 20s 310ms/step - loss: 0.4562 - accuracy: 0.9890 - val_loss: 1.5578 - val_accuracy: 0.9780\n",
            "Epoch 11/50\n",
            "63/63 [==============================] - 20s 318ms/step - loss: 0.2886 - accuracy: 0.9930 - val_loss: 3.5209 - val_accuracy: 0.9730\n",
            "Epoch 12/50\n",
            "63/63 [==============================] - 21s 316ms/step - loss: 0.4546 - accuracy: 0.9905 - val_loss: 2.0108 - val_accuracy: 0.9780\n",
            "Epoch 13/50\n",
            "63/63 [==============================] - 22s 336ms/step - loss: 0.3798 - accuracy: 0.9940 - val_loss: 1.7189 - val_accuracy: 0.9800\n",
            "Epoch 14/50\n",
            "63/63 [==============================] - 20s 308ms/step - loss: 0.1272 - accuracy: 0.9950 - val_loss: 1.6281 - val_accuracy: 0.9790\n",
            "Epoch 15/50\n",
            "63/63 [==============================] - 21s 327ms/step - loss: 0.3068 - accuracy: 0.9920 - val_loss: 1.5119 - val_accuracy: 0.9820\n",
            "Epoch 16/50\n",
            "63/63 [==============================] - 20s 311ms/step - loss: 0.2428 - accuracy: 0.9920 - val_loss: 1.7721 - val_accuracy: 0.9800\n",
            "Epoch 17/50\n",
            "63/63 [==============================] - 20s 310ms/step - loss: 0.3517 - accuracy: 0.9900 - val_loss: 1.6995 - val_accuracy: 0.9790\n",
            "Epoch 18/50\n",
            "63/63 [==============================] - 21s 320ms/step - loss: 0.0988 - accuracy: 0.9965 - val_loss: 1.6661 - val_accuracy: 0.9810\n",
            "Epoch 19/50\n",
            "63/63 [==============================] - 20s 311ms/step - loss: 0.0966 - accuracy: 0.9970 - val_loss: 1.9119 - val_accuracy: 0.9790\n",
            "Epoch 20/50\n",
            "63/63 [==============================] - 21s 322ms/step - loss: 0.2847 - accuracy: 0.9925 - val_loss: 1.7069 - val_accuracy: 0.9800\n",
            "Epoch 21/50\n",
            "63/63 [==============================] - 20s 309ms/step - loss: 0.0719 - accuracy: 0.9970 - val_loss: 2.7821 - val_accuracy: 0.9760\n",
            "Epoch 22/50\n",
            "63/63 [==============================] - 21s 323ms/step - loss: 0.2717 - accuracy: 0.9960 - val_loss: 1.4532 - val_accuracy: 0.9820\n",
            "Epoch 23/50\n",
            "63/63 [==============================] - 20s 315ms/step - loss: 0.1200 - accuracy: 0.9975 - val_loss: 1.5913 - val_accuracy: 0.9820\n",
            "Epoch 24/50\n",
            "63/63 [==============================] - 20s 309ms/step - loss: 0.1179 - accuracy: 0.9965 - val_loss: 1.9653 - val_accuracy: 0.9800\n",
            "Epoch 25/50\n",
            "63/63 [==============================] - 21s 323ms/step - loss: 0.1266 - accuracy: 0.9965 - val_loss: 1.6556 - val_accuracy: 0.9850\n",
            "Epoch 26/50\n",
            "63/63 [==============================] - 20s 308ms/step - loss: 0.1018 - accuracy: 0.9960 - val_loss: 2.0190 - val_accuracy: 0.9780\n",
            "Epoch 27/50\n",
            "63/63 [==============================] - 21s 320ms/step - loss: 0.1793 - accuracy: 0.9970 - val_loss: 1.8843 - val_accuracy: 0.9790\n",
            "Epoch 28/50\n",
            "63/63 [==============================] - 22s 338ms/step - loss: 0.0860 - accuracy: 0.9975 - val_loss: 1.6587 - val_accuracy: 0.9820\n",
            "Epoch 29/50\n",
            "63/63 [==============================] - 20s 309ms/step - loss: 0.0733 - accuracy: 0.9975 - val_loss: 2.0112 - val_accuracy: 0.9810\n",
            "Epoch 30/50\n",
            "63/63 [==============================] - 21s 322ms/step - loss: 0.1201 - accuracy: 0.9950 - val_loss: 2.0662 - val_accuracy: 0.9810\n",
            "Epoch 31/50\n",
            "63/63 [==============================] - 20s 308ms/step - loss: 0.1151 - accuracy: 0.9960 - val_loss: 1.7081 - val_accuracy: 0.9830\n",
            "Epoch 32/50\n",
            "63/63 [==============================] - 20s 307ms/step - loss: 0.0533 - accuracy: 0.9970 - val_loss: 1.4996 - val_accuracy: 0.9850\n",
            "Epoch 33/50\n",
            "63/63 [==============================] - 20s 316ms/step - loss: 0.0424 - accuracy: 0.9985 - val_loss: 1.5597 - val_accuracy: 0.9800\n",
            "Epoch 34/50\n",
            "63/63 [==============================] - 20s 307ms/step - loss: 0.2438 - accuracy: 0.9960 - val_loss: 1.6505 - val_accuracy: 0.9830\n",
            "Epoch 35/50\n",
            "63/63 [==============================] - 20s 319ms/step - loss: 0.0772 - accuracy: 0.9985 - val_loss: 1.8866 - val_accuracy: 0.9820\n",
            "Epoch 36/50\n",
            "63/63 [==============================] - 20s 310ms/step - loss: 0.0095 - accuracy: 0.9990 - val_loss: 2.2445 - val_accuracy: 0.9800\n",
            "Epoch 37/50\n",
            "63/63 [==============================] - 21s 322ms/step - loss: 0.0891 - accuracy: 0.9960 - val_loss: 1.8743 - val_accuracy: 0.9800\n",
            "Epoch 38/50\n",
            "63/63 [==============================] - 20s 308ms/step - loss: 0.0466 - accuracy: 0.9970 - val_loss: 1.9100 - val_accuracy: 0.9800\n",
            "Epoch 39/50\n",
            "63/63 [==============================] - 20s 311ms/step - loss: 0.1049 - accuracy: 0.9970 - val_loss: 1.7813 - val_accuracy: 0.9810\n",
            "Epoch 40/50\n",
            "63/63 [==============================] - 20s 311ms/step - loss: 0.0733 - accuracy: 0.9980 - val_loss: 1.9537 - val_accuracy: 0.9820\n",
            "Epoch 41/50\n",
            "63/63 [==============================] - 20s 310ms/step - loss: 0.1156 - accuracy: 0.9970 - val_loss: 1.9226 - val_accuracy: 0.9830\n",
            "Epoch 42/50\n",
            "63/63 [==============================] - 21s 320ms/step - loss: 6.5595e-04 - accuracy: 0.9995 - val_loss: 2.5030 - val_accuracy: 0.9800\n",
            "Epoch 43/50\n",
            "63/63 [==============================] - 20s 307ms/step - loss: 0.0053 - accuracy: 0.9995 - val_loss: 1.6429 - val_accuracy: 0.9820\n",
            "Epoch 44/50\n",
            "63/63 [==============================] - 21s 322ms/step - loss: 0.0452 - accuracy: 0.9980 - val_loss: 1.9670 - val_accuracy: 0.9800\n",
            "Epoch 45/50\n",
            "63/63 [==============================] - 22s 338ms/step - loss: 0.0940 - accuracy: 0.9975 - val_loss: 1.7850 - val_accuracy: 0.9790\n",
            "Epoch 46/50\n",
            "63/63 [==============================] - 20s 308ms/step - loss: 0.0999 - accuracy: 0.9975 - val_loss: 1.8911 - val_accuracy: 0.9790\n",
            "Epoch 47/50\n",
            "63/63 [==============================] - 21s 323ms/step - loss: 0.0162 - accuracy: 0.9995 - val_loss: 1.8947 - val_accuracy: 0.9800\n",
            "Epoch 48/50\n",
            "63/63 [==============================] - 20s 306ms/step - loss: 0.0544 - accuracy: 0.9980 - val_loss: 2.0026 - val_accuracy: 0.9810\n",
            "Epoch 49/50\n",
            "63/63 [==============================] - 20s 315ms/step - loss: 8.7856e-04 - accuracy: 0.9995 - val_loss: 1.9240 - val_accuracy: 0.9800\n",
            "Epoch 50/50\n",
            "63/63 [==============================] - 20s 311ms/step - loss: 1.1812e-04 - accuracy: 1.0000 - val_loss: 1.7644 - val_accuracy: 0.9810\n"
          ]
        }
      ]
    },
    {
      "cell_type": "code",
      "source": [
        "test_loss , test_acc = model.evaluate(test_dataset)\n",
        "print(test_loss  , test_acc)"
      ],
      "metadata": {
        "colab": {
          "base_uri": "https://localhost:8080/"
        },
        "id": "gogDSm_ViP1M",
        "outputId": "4953a245-7459-4984-836f-7c503c258953"
      },
      "execution_count": 16,
      "outputs": [
        {
          "output_type": "stream",
          "name": "stdout",
          "text": [
            "64/64 [==============================] - 276s 4s/step - loss: 2.8447 - accuracy: 0.9772\n",
            "2.8447206020355225 0.9771938323974609\n"
          ]
        }
      ]
    },
    {
      "cell_type": "code",
      "source": [
        "import matplotlib.pyplot as plt\n",
        "epochs = range(1, len(history.history[\"loss\"])+1)\n",
        "\n",
        "loss = history.history[\"loss\"]\n",
        "val_loss = history.history[\"val_loss\"]\n",
        "plt.figure()\n",
        "plt.plot(epochs , loss , label = \"trian_loss\")\n",
        "plt.plot(epochs , val_loss , label = \"val_loss\")\n",
        "plt.legend()"
      ],
      "metadata": {
        "colab": {
          "base_uri": "https://localhost:8080/",
          "height": 286
        },
        "id": "6MmOYUN6nWMC",
        "outputId": "ac9f8f6c-3094-4a54-a0d9-297948ba66ed"
      },
      "execution_count": 18,
      "outputs": [
        {
          "output_type": "execute_result",
          "data": {
            "text/plain": [
              "<matplotlib.legend.Legend at 0x7f5fce42dd30>"
            ]
          },
          "metadata": {},
          "execution_count": 18
        },
        {
          "output_type": "display_data",
          "data": {
            "text/plain": [
              "<Figure size 432x288 with 1 Axes>"
            ],
            "image/png": "[encoded data removed]"
          },
          "metadata": {
            "needs_background": "light"
          }
        }
      ]
    }
  ]
}