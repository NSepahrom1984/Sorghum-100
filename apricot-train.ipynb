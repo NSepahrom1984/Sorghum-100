{
 "cells": [
  {
   "cell_type": "code",
   "execution_count": 1,
   "id": "0efd4278",
   "metadata": {},
   "outputs": [],
   "source": [
    "from tensorflow import keras\n",
    "from tensorflow.keras import layers"
   ]
  },
  {
   "cell_type": "code",
   "execution_count": 2,
   "id": "ec8a76fc",
   "metadata": {},
   "outputs": [],
   "source": [
    "import pandas as pd\n",
    "import numpy as np\n",
    "import cv2\n",
    "import os\n",
    "import glob"
   ]
  },
  {
   "cell_type": "code",
   "execution_count": 3,
   "id": "6bbfe593",
   "metadata": {},
   "outputs": [],
   "source": [
    "labels = pd.read_csv(\"G:\\\\Sorghum\\\\train_cultivar_mapping.csv\")"
   ]
  },
  {
   "cell_type": "code",
   "execution_count": 4,
   "id": "f9a10d3d",
   "metadata": {},
   "outputs": [
    {
     "data": {
      "text/html": [
       "<div>\n",
       "<style scoped>\n",
       "    .dataframe tbody tr th:only-of-type {\n",
       "        vertical-align: middle;\n",
       "    }\n",
       "\n",
       "    .dataframe tbody tr th {\n",
       "        vertical-align: top;\n",
       "    }\n",
       "\n",
       "    .dataframe thead th {\n",
       "        text-align: right;\n",
       "    }\n",
       "</style>\n",
       "<table border=\"1\" class=\"dataframe\">\n",
       "  <thead>\n",
       "    <tr style=\"text-align: right;\">\n",
       "      <th></th>\n",
       "      <th>image</th>\n",
       "      <th>cultivar</th>\n",
       "    </tr>\n",
       "  </thead>\n",
       "  <tbody>\n",
       "    <tr>\n",
       "      <th>0</th>\n",
       "      <td>2017-06-16__12-24-20-930.png</td>\n",
       "      <td>PI_257599</td>\n",
       "    </tr>\n",
       "    <tr>\n",
       "      <th>1</th>\n",
       "      <td>2017-06-02__16-48-57-866.png</td>\n",
       "      <td>PI_154987</td>\n",
       "    </tr>\n",
       "    <tr>\n",
       "      <th>2</th>\n",
       "      <td>2017-06-12__13-18-07-707.png</td>\n",
       "      <td>PI_92270</td>\n",
       "    </tr>\n",
       "    <tr>\n",
       "      <th>3</th>\n",
       "      <td>2017-06-22__13-18-06-841.png</td>\n",
       "      <td>PI_152651</td>\n",
       "    </tr>\n",
       "    <tr>\n",
       "      <th>4</th>\n",
       "      <td>2017-06-26__12-56-48-642.png</td>\n",
       "      <td>PI_176766</td>\n",
       "    </tr>\n",
       "    <tr>\n",
       "      <th>...</th>\n",
       "      <td>...</td>\n",
       "      <td>...</td>\n",
       "    </tr>\n",
       "    <tr>\n",
       "      <th>22189</th>\n",
       "      <td>2017-06-16__12-27-16-266.png</td>\n",
       "      <td>PI_170787</td>\n",
       "    </tr>\n",
       "    <tr>\n",
       "      <th>22190</th>\n",
       "      <td>2017-06-28__11-19-57-454.png</td>\n",
       "      <td>PI_156393</td>\n",
       "    </tr>\n",
       "    <tr>\n",
       "      <th>22191</th>\n",
       "      <td>2017-06-28__10-20-32-417.png</td>\n",
       "      <td>PI_152923</td>\n",
       "    </tr>\n",
       "    <tr>\n",
       "      <th>22192</th>\n",
       "      <td>2017-06-28__12-47-02-714.png</td>\n",
       "      <td>PI_257599</td>\n",
       "    </tr>\n",
       "    <tr>\n",
       "      <th>22193</th>\n",
       "      <td>2017-06-04__13-12-56-053.png</td>\n",
       "      <td>PI_196586</td>\n",
       "    </tr>\n",
       "  </tbody>\n",
       "</table>\n",
       "<p>22194 rows × 2 columns</p>\n",
       "</div>"
      ],
      "text/plain": [
       "                              image   cultivar\n",
       "0      2017-06-16__12-24-20-930.png  PI_257599\n",
       "1      2017-06-02__16-48-57-866.png  PI_154987\n",
       "2      2017-06-12__13-18-07-707.png   PI_92270\n",
       "3      2017-06-22__13-18-06-841.png  PI_152651\n",
       "4      2017-06-26__12-56-48-642.png  PI_176766\n",
       "...                             ...        ...\n",
       "22189  2017-06-16__12-27-16-266.png  PI_170787\n",
       "22190  2017-06-28__11-19-57-454.png  PI_156393\n",
       "22191  2017-06-28__10-20-32-417.png  PI_152923\n",
       "22192  2017-06-28__12-47-02-714.png  PI_257599\n",
       "22193  2017-06-04__13-12-56-053.png  PI_196586\n",
       "\n",
       "[22194 rows x 2 columns]"
      ]
     },
     "execution_count": 4,
     "metadata": {},
     "output_type": "execute_result"
    }
   ],
   "source": [
    "labels"
   ]
  },
  {
   "cell_type": "code",
   "execution_count": 5,
   "id": "e8b5cb43",
   "metadata": {},
   "outputs": [],
   "source": [
    "class1 = labels.cultivar.unique()"
   ]
  },
  {
   "cell_type": "code",
   "execution_count": 6,
   "id": "b1421a50",
   "metadata": {},
   "outputs": [
    {
     "data": {
      "text/plain": [
       "array(['PI_257599', 'PI_154987', 'PI_92270', 'PI_152651', 'PI_176766',\n",
       "       'PI_156330', 'PI_329299', 'PI_52606', 'PI_145633', 'PI_273969',\n",
       "       'PI_196586', 'PI_156463', 'PI_22913', 'PI_156393', 'PI_35038',\n",
       "       'PI_152828', 'PI_152694', 'PI_329310', 'PI_251672', 'PI_154750',\n",
       "       'PI_213900', 'PI_152816', 'PI_221651', 'PI_170787', 'PI_175919',\n",
       "       'PI_297171', 'PI_329351', 'PI_152961', 'PI_179749', 'PI_196049',\n",
       "       'PI_266927', 'PI_156871', 'PI_329300', 'PI_221548', 'PI_152966',\n",
       "       'PI_273465', 'PI_146890', 'PI_152965', 'PI_329286', 'PI_180348',\n",
       "       'PI_329338', 'PI_196583', 'PI_152771', 'PI_197542', 'PI_152967',\n",
       "       'PI_156326', 'PI_154988', 'PI_145626', 'PI_329256', 'PI_157804',\n",
       "       'PI_255744', 'PI_152860', 'PI_152730', 'PI_154844', 'PI_196598',\n",
       "       'PI_329333', 'PI_152727', 'PI_145619', 'PI_297155', 'PI_156178',\n",
       "       'PI_276837', 'PI_195754', 'PI_152751', 'PI_267573', 'PI_19770',\n",
       "       'PI_152862', 'PI_155760', 'PI_152728', 'PI_297130', 'PI_229841',\n",
       "       'PI_154846', 'PI_329301', 'PI_253986', 'PI_153877', 'PI_156217',\n",
       "       'PI_157035', 'PI_181080', 'PI_217691', 'PI_63715', 'PI_329326',\n",
       "       'PI_152591', 'PI_167093', 'PI_303658', 'PI_152923', 'PI_144134',\n",
       "       'PI_157030', 'PI_218112', 'PI_255239', 'PI_329319', 'PI_156487',\n",
       "       'PI_154944', 'PI_257600', 'PI_155885', 'PI_302252', 'PI_152733',\n",
       "       'PI_156268', 'PI_152971', 'PI_156890', 'PI_155516', 'PI_181083',\n",
       "       nan], dtype=object)"
      ]
     },
     "execution_count": 6,
     "metadata": {},
     "output_type": "execute_result"
    }
   ],
   "source": [
    "class1"
   ]
  },
  {
   "cell_type": "code",
   "execution_count": 7,
   "id": "96df312f",
   "metadata": {},
   "outputs": [],
   "source": [
    "from sklearn import preprocessing\n",
    "\n",
    "le = preprocessing.LabelEncoder()\n",
    "le.fit(labels.cultivar)\n",
    "labels['categories']=le.transform(labels.cultivar)"
   ]
  },
  {
   "cell_type": "code",
   "execution_count": 8,
   "id": "6a634ad7",
   "metadata": {},
   "outputs": [],
   "source": [
    "labels = labels[labels.categories !=100]"
   ]
  },
  {
   "cell_type": "code",
   "execution_count": 9,
   "id": "e42a173c",
   "metadata": {},
   "outputs": [],
   "source": [
    "#from tensorflow.keras.preprocessing import image_dataset_from_directory\n",
    "\n",
    "from tensorflow.keras.preprocessing.image import ImageDataGenerator"
   ]
  },
  {
   "cell_type": "code",
   "execution_count": 10,
   "id": "976c5392",
   "metadata": {},
   "outputs": [
    {
     "data": {
      "text/html": [
       "<div>\n",
       "<style scoped>\n",
       "    .dataframe tbody tr th:only-of-type {\n",
       "        vertical-align: middle;\n",
       "    }\n",
       "\n",
       "    .dataframe tbody tr th {\n",
       "        vertical-align: top;\n",
       "    }\n",
       "\n",
       "    .dataframe thead th {\n",
       "        text-align: right;\n",
       "    }\n",
       "</style>\n",
       "<table border=\"1\" class=\"dataframe\">\n",
       "  <thead>\n",
       "    <tr style=\"text-align: right;\">\n",
       "      <th></th>\n",
       "      <th>image</th>\n",
       "      <th>cultivar</th>\n",
       "      <th>categories</th>\n",
       "    </tr>\n",
       "  </thead>\n",
       "  <tbody>\n",
       "    <tr>\n",
       "      <th>0</th>\n",
       "      <td>2017-06-16__12-24-20-930.png</td>\n",
       "      <td>PI_257599</td>\n",
       "      <td>73</td>\n",
       "    </tr>\n",
       "    <tr>\n",
       "      <th>1</th>\n",
       "      <td>2017-06-02__16-48-57-866.png</td>\n",
       "      <td>PI_154987</td>\n",
       "      <td>29</td>\n",
       "    </tr>\n",
       "    <tr>\n",
       "      <th>2</th>\n",
       "      <td>2017-06-12__13-18-07-707.png</td>\n",
       "      <td>PI_92270</td>\n",
       "      <td>99</td>\n",
       "    </tr>\n",
       "    <tr>\n",
       "      <th>3</th>\n",
       "      <td>2017-06-22__13-18-06-841.png</td>\n",
       "      <td>PI_152651</td>\n",
       "      <td>6</td>\n",
       "    </tr>\n",
       "    <tr>\n",
       "      <th>4</th>\n",
       "      <td>2017-06-26__12-56-48-642.png</td>\n",
       "      <td>PI_176766</td>\n",
       "      <td>50</td>\n",
       "    </tr>\n",
       "  </tbody>\n",
       "</table>\n",
       "</div>"
      ],
      "text/plain": [
       "                          image   cultivar  categories\n",
       "0  2017-06-16__12-24-20-930.png  PI_257599          73\n",
       "1  2017-06-02__16-48-57-866.png  PI_154987          29\n",
       "2  2017-06-12__13-18-07-707.png   PI_92270          99\n",
       "3  2017-06-22__13-18-06-841.png  PI_152651           6\n",
       "4  2017-06-26__12-56-48-642.png  PI_176766          50"
      ]
     },
     "execution_count": 10,
     "metadata": {},
     "output_type": "execute_result"
    }
   ],
   "source": [
    "\n",
    "\n",
    "labels.head()"
   ]
  },
  {
   "cell_type": "code",
   "execution_count": 11,
   "id": "7e16e8e0",
   "metadata": {},
   "outputs": [
    {
     "name": "stdout",
     "output_type": "stream",
     "text": [
      "Found 17755 validated image filenames belonging to 100 classes.\n",
      "Found 4438 validated image filenames belonging to 100 classes.\n"
     ]
    }
   ],
   "source": [
    "train_datagen = ImageDataGenerator(\n",
    "    rotation_range = 0.9,\n",
    "    zoom_range = 0.15,\n",
    "    horizontal_flip = True,\n",
    "    shear_range = 0.2,\n",
    "    validation_split = 0.2\n",
    "\n",
    ") \n",
    "\n",
    "train_data = train_datagen.flow_from_dataframe(\n",
    "    dataframe = labels,\n",
    "    directory =  \"G:\\\\Sorghum\\\\train_images\",\n",
    "    x_col = 'image',\n",
    "    y_col = 'cultivar',\n",
    "    class_mode = 'sparse',\n",
    "    target_size = (256,256),\n",
    "    batch_size = 16,\n",
    "    subset = 'training',\n",
    "    shuffle = True\n",
    "\n",
    ")\n",
    "\n",
    "val_data = train_datagen.flow_from_dataframe(\n",
    "    dataframe = labels,\n",
    "    directory =  \"G:\\\\Sorghum\\\\train_images\",\n",
    "    x_col = 'image',\n",
    "    y_col = 'cultivar',\n",
    "    class_mode = 'sparse',\n",
    "    target_size = (256,256),\n",
    "    batch_size = 16,\n",
    "    subset = 'validation',\n",
    "    shuffle = True\n",
    "    \n",
    ")\n"
   ]
  },
  {
   "cell_type": "code",
   "execution_count": 12,
   "id": "617da038",
   "metadata": {},
   "outputs": [],
   "source": [
    "from tensorflow import keras\n",
    "conv_base = keras.applications.vgg16.VGG16(\n",
    "    weights=\"imagenet\",\n",
    "    include_top = False,\n",
    "    input_shape=(256,256,3)\n",
    ")"
   ]
  },
  {
   "cell_type": "code",
   "execution_count": 13,
   "id": "2d413b54",
   "metadata": {},
   "outputs": [
    {
     "name": "stdout",
     "output_type": "stream",
     "text": [
      "Model: \"vgg16\"\n",
      "_________________________________________________________________\n",
      "Layer (type)                 Output Shape              Param #   \n",
      "=================================================================\n",
      "input_1 (InputLayer)         [(None, 256, 256, 3)]     0         \n",
      "_________________________________________________________________\n",
      "block1_conv1 (Conv2D)        (None, 256, 256, 64)      1792      \n",
      "_________________________________________________________________\n",
      "block1_conv2 (Conv2D)        (None, 256, 256, 64)      36928     \n",
      "_________________________________________________________________\n",
      "block1_pool (MaxPooling2D)   (None, 128, 128, 64)      0         \n",
      "_________________________________________________________________\n",
      "block2_conv1 (Conv2D)        (None, 128, 128, 128)     73856     \n",
      "_________________________________________________________________\n",
      "block2_conv2 (Conv2D)        (None, 128, 128, 128)     147584    \n",
      "_________________________________________________________________\n",
      "block2_pool (MaxPooling2D)   (None, 64, 64, 128)       0         \n",
      "_________________________________________________________________\n",
      "block3_conv1 (Conv2D)        (None, 64, 64, 256)       295168    \n",
      "_________________________________________________________________\n",
      "block3_conv2 (Conv2D)        (None, 64, 64, 256)       590080    \n",
      "_________________________________________________________________\n",
      "block3_conv3 (Conv2D)        (None, 64, 64, 256)       590080    \n",
      "_________________________________________________________________\n",
      "block3_pool (MaxPooling2D)   (None, 32, 32, 256)       0         \n",
      "_________________________________________________________________\n",
      "block4_conv1 (Conv2D)        (None, 32, 32, 512)       1180160   \n",
      "_________________________________________________________________\n",
      "block4_conv2 (Conv2D)        (None, 32, 32, 512)       2359808   \n",
      "_________________________________________________________________\n",
      "block4_conv3 (Conv2D)        (None, 32, 32, 512)       2359808   \n",
      "_________________________________________________________________\n",
      "block4_pool (MaxPooling2D)   (None, 16, 16, 512)       0         \n",
      "_________________________________________________________________\n",
      "block5_conv1 (Conv2D)        (None, 16, 16, 512)       2359808   \n",
      "_________________________________________________________________\n",
      "block5_conv2 (Conv2D)        (None, 16, 16, 512)       2359808   \n",
      "_________________________________________________________________\n",
      "block5_conv3 (Conv2D)        (None, 16, 16, 512)       2359808   \n",
      "_________________________________________________________________\n",
      "block5_pool (MaxPooling2D)   (None, 8, 8, 512)         0         \n",
      "=================================================================\n",
      "Total params: 14,714,688\n",
      "Trainable params: 14,714,688\n",
      "Non-trainable params: 0\n",
      "_________________________________________________________________\n"
     ]
    }
   ],
   "source": [
    "conv_base.summary()"
   ]
  },
  {
   "cell_type": "code",
   "execution_count": 14,
   "id": "3d54bd07",
   "metadata": {},
   "outputs": [],
   "source": [
    "inputs = keras.Input(shape = (256 ,256 , 3))\n",
    "x = keras.applications.vgg16.preprocess_input(inputs)\n",
    "x = conv_base(x)\n",
    "x = layers.Flatten()(x)\n",
    "x = layers.Dense(256)(x)\n",
    "x = layers.Dropout(0.2)(x)\n",
    "\n",
    "outputs = layers.Dense(100,activation = \"softmax\")(x)\n",
    "model = keras.Model(inputs,outputs)\n",
    "model.compile(loss = \"sparse_categorical_crossentropy\", optimizer = \"rmsprop\",metrics=[\"accuracy\"])"
   ]
  },
  {
   "cell_type": "code",
   "execution_count": null,
   "id": "d48f82e0",
   "metadata": {},
   "outputs": [
    {
     "name": "stdout",
     "output_type": "stream",
     "text": [
      "Epoch 1/50\n",
      "1110/1110 [==============================] - 1215s 1s/step - loss: 170.1151 - accuracy: 0.0101 - val_loss: 4.5930 - val_accuracy: 0.0131\n",
      "Epoch 2/50\n",
      "1110/1110 [==============================] - 1116s 1s/step - loss: 4.5942 - accuracy: 0.0125 - val_loss: 4.5960 - val_accuracy: 0.0131\n",
      "Epoch 3/50\n",
      "1110/1110 [==============================] - 1107s 997ms/step - loss: 4.5935 - accuracy: 0.0139 - val_loss: 4.5971 - val_accuracy: 0.0131\n",
      "Epoch 4/50\n",
      "1110/1110 [==============================] - 1126s 1s/step - loss: 15.1930 - accuracy: 0.0123 - val_loss: 4.5966 - val_accuracy: 0.0131\n",
      "Epoch 5/50\n",
      "1110/1110 [==============================] - 1138s 1s/step - loss: 5.1023 - accuracy: 0.0129 - val_loss: 4.5952 - val_accuracy: 0.0131\n",
      "Epoch 6/50\n",
      "1110/1110 [==============================] - 1082s 975ms/step - loss: 4.5935 - accuracy: 0.0124 - val_loss: 4.5937 - val_accuracy: 0.0131\n",
      "Epoch 7/50\n",
      "1110/1110 [==============================] - 1101s 992ms/step - loss: 4.5933 - accuracy: 0.0118 - val_loss: 4.5955 - val_accuracy: 0.0131\n",
      "Epoch 8/50\n",
      "1110/1110 [==============================] - 1136s 1s/step - loss: 4.5937 - accuracy: 0.0134 - val_loss: 4.5932 - val_accuracy: 0.0131\n",
      "Epoch 9/50\n",
      "  45/1110 [>.............................] - ETA: 12:18 - loss: 4.5889 - accuracy: 0.0139"
     ]
    }
   ],
   "source": [
    "history = model.fit(train_data,epochs = 50, validation_data = val_data)"
   ]
  },
  {
   "cell_type": "code",
   "execution_count": 18,
   "id": "26b66271",
   "metadata": {},
   "outputs": [],
   "source": [
    "checkpoint = keras.callbacks.ModelCheckpoint(\n",
    "    filepath = \"imagenet_model.keras\", \n",
    "        save_best_only = True,\n",
    "        monitor = \"val_loss\"\n",
    "    )\n",
    "    \n"
   ]
  },
  {
   "cell_type": "code",
   "execution_count": 19,
   "id": "80635148",
   "metadata": {},
   "outputs": [
    {
     "name": "stdout",
     "output_type": "stream",
     "text": [
      "Epoch 1/50\n",
      "1110/1110 [==============================] - 880s 792ms/step - loss: 4.5979 - accuracy: 0.0124 - val_loss: 4.6009 - val_accuracy: 0.0092\n",
      "Epoch 2/50\n",
      "1110/1110 [==============================] - 877s 790ms/step - loss: 4.5979 - accuracy: 0.0122 - val_loss: 4.5965 - val_accuracy: 0.0131\n",
      "Epoch 3/50\n",
      "1110/1110 [==============================] - 804s 725ms/step - loss: 4.5983 - accuracy: 0.0126 - val_loss: 4.6003 - val_accuracy: 0.0092\n",
      "Epoch 4/50\n",
      "1110/1110 [==============================] - 793s 714ms/step - loss: 4.5984 - accuracy: 0.0110 - val_loss: 4.5986 - val_accuracy: 0.0135\n",
      "Epoch 5/50\n",
      "1110/1110 [==============================] - 792s 714ms/step - loss: 4.5983 - accuracy: 0.0133 - val_loss: 4.5976 - val_accuracy: 0.0115\n",
      "Epoch 6/50\n",
      "1110/1110 [==============================] - 825s 743ms/step - loss: 4.5985 - accuracy: 0.0133 - val_loss: 4.5991 - val_accuracy: 0.0131\n",
      "Epoch 7/50\n",
      "1110/1110 [==============================] - 808s 728ms/step - loss: 4.5978 - accuracy: 0.0115 - val_loss: 4.6001 - val_accuracy: 0.0131\n"
     ]
    }
   ],
   "source": [
    "from keras.callbacks import EarlyStopping\n",
    "ES = EarlyStopping(monitor = \"val_loss\" , patience = 5)\n",
    "history = model.fit(train_data,epochs = 50, validation_data = val_data, callbacks = [checkpoint, ES])"
   ]
  },
  {
   "cell_type": "code",
   "execution_count": 20,
   "id": "9c1dbd27",
   "metadata": {},
   "outputs": [],
   "source": [
    "\n",
    "inputs = keras.Input(shape = (256 , 256 , 3))\n",
    "\n",
    "x = layers.Rescaling(1.0 /255)(inputs)\n",
    "\n",
    "x = layers.Conv2D(filters = 32 , kernel_size = 3 , activation = 'relu')(x)\n",
    "x = layers.MaxPooling2D(pool_size = 2)(x)\n",
    "x = layers.Conv2D(filters = 64 , kernel_size = 3 , activation = 'relu')(x)\n",
    "x = layers.MaxPooling2D(pool_size = 2)(x)\n",
    "x = layers.Conv2D(filters = 128 , kernel_size = 3 , activation = 'relu')(x)\n",
    "x = layers.MaxPooling2D(pool_size = 2)(x)\n",
    "x = layers.Conv2D(filters = 256 , kernel_size = 3 , activation = 'relu')(x)\n",
    "x = layers.MaxPooling2D(pool_size = 2)(x)\n",
    "x = layers.Conv2D(filters = 256 , kernel_size = 3 , activation = 'relu')(x)\n",
    "\n",
    "x = layers.Flatten()(x)\n",
    "output = layers.Dense(100 ,activation = 'softmax') (x)"
   ]
  },
  {
   "cell_type": "code",
   "execution_count": 21,
   "id": "2d2ffc20",
   "metadata": {},
   "outputs": [],
   "source": [
    "model = keras.Model (inputs = inputs , outputs = output)"
   ]
  },
  {
   "cell_type": "code",
   "execution_count": 22,
   "id": "e2efa46f",
   "metadata": {},
   "outputs": [
    {
     "name": "stdout",
     "output_type": "stream",
     "text": [
      "Model: \"model_1\"\n",
      "_________________________________________________________________\n",
      " Layer (type)                Output Shape              Param #   \n",
      "=================================================================\n",
      " input_3 (InputLayer)        [(None, 256, 256, 3)]     0         \n",
      "                                                                 \n",
      " rescaling (Rescaling)       (None, 256, 256, 3)       0         \n",
      "                                                                 \n",
      " conv2d (Conv2D)             (None, 254, 254, 32)      896       \n",
      "                                                                 \n",
      " max_pooling2d (MaxPooling2D  (None, 127, 127, 32)     0         \n",
      " )                                                               \n",
      "                                                                 \n",
      " conv2d_1 (Conv2D)           (None, 125, 125, 64)      18496     \n",
      "                                                                 \n",
      " max_pooling2d_1 (MaxPooling  (None, 62, 62, 64)       0         \n",
      " 2D)                                                             \n",
      "                                                                 \n",
      " conv2d_2 (Conv2D)           (None, 60, 60, 128)       73856     \n",
      "                                                                 \n",
      " max_pooling2d_2 (MaxPooling  (None, 30, 30, 128)      0         \n",
      " 2D)                                                             \n",
      "                                                                 \n",
      " conv2d_3 (Conv2D)           (None, 28, 28, 256)       295168    \n",
      "                                                                 \n",
      " max_pooling2d_3 (MaxPooling  (None, 14, 14, 256)      0         \n",
      " 2D)                                                             \n",
      "                                                                 \n",
      " conv2d_4 (Conv2D)           (None, 12, 12, 256)       590080    \n",
      "                                                                 \n",
      " flatten_1 (Flatten)         (None, 36864)             0         \n",
      "                                                                 \n",
      " dense_2 (Dense)             (None, 100)               3686500   \n",
      "                                                                 \n",
      "=================================================================\n",
      "Total params: 4,664,996\n",
      "Trainable params: 4,664,996\n",
      "Non-trainable params: 0\n",
      "_________________________________________________________________\n"
     ]
    }
   ],
   "source": [
    "model.summary()"
   ]
  },
  {
   "cell_type": "code",
   "execution_count": 23,
   "id": "be0e7036",
   "metadata": {},
   "outputs": [],
   "source": [
    "model.compile( loss = \"binary_crossentropy\" , optimizer = \"rmsprop\" , metrics =['accuracy'])"
   ]
  },
  {
   "cell_type": "code",
   "execution_count": 24,
   "id": "0e707754",
   "metadata": {},
   "outputs": [
    {
     "data": {
      "text/plain": [
       "<keras.preprocessing.image.DataFrameIterator at 0x120552cb4f0>"
      ]
     },
     "execution_count": 24,
     "metadata": {},
     "output_type": "execute_result"
    }
   ],
   "source": [
    "train_data"
   ]
  },
  {
   "cell_type": "code",
   "execution_count": 25,
   "id": "85410ee5",
   "metadata": {},
   "outputs": [],
   "source": [
    "from numpy.lib.npyio import save\n",
    "callbacks = [\n",
    "\n",
    "keras.callbacks.ModelCheckpoint(filepath = \"catvsdgoscnn1.keras\" ,save_best_only = True, monitor =\"val_loss\"),\n",
    "keras.callbacks.EarlyStopping            \n",
    "             \n",
    "]"
   ]
  },
  {
   "cell_type": "code",
   "execution_count": 26,
   "id": "1c36dbf6",
   "metadata": {},
   "outputs": [
    {
     "ename": "TypeError",
     "evalue": "set_model() missing 1 required positional argument: 'model'",
     "output_type": "error",
     "traceback": [
      "\u001b[1;31m---------------------------------------------------------------------------\u001b[0m",
      "\u001b[1;31mTypeError\u001b[0m                                 Traceback (most recent call last)",
      "\u001b[1;32m~\\AppData\\Local\\Temp\\ipykernel_36000\\3898620935.py\u001b[0m in \u001b[0;36m<module>\u001b[1;34m\u001b[0m\n\u001b[1;32m----> 1\u001b[1;33m \u001b[0mhistory\u001b[0m \u001b[1;33m=\u001b[0m \u001b[0mmodel\u001b[0m\u001b[1;33m.\u001b[0m\u001b[0mfit\u001b[0m\u001b[1;33m(\u001b[0m\u001b[0mtrain_data\u001b[0m\u001b[1;33m,\u001b[0m \u001b[0mepochs\u001b[0m\u001b[1;33m=\u001b[0m \u001b[1;36m30\u001b[0m \u001b[1;33m,\u001b[0m\u001b[0mvalidation_data\u001b[0m \u001b[1;33m=\u001b[0m \u001b[0mval_data\u001b[0m \u001b[1;33m,\u001b[0m \u001b[0mcallbacks\u001b[0m \u001b[1;33m=\u001b[0m \u001b[0mcallbacks\u001b[0m\u001b[1;33m)\u001b[0m\u001b[1;33m\u001b[0m\u001b[1;33m\u001b[0m\u001b[0m\n\u001b[0m",
      "\u001b[1;32m~\\anaconda3\\lib\\site-packages\\keras\\utils\\traceback_utils.py\u001b[0m in \u001b[0;36merror_handler\u001b[1;34m(*args, **kwargs)\u001b[0m\n\u001b[0;32m     68\u001b[0m             \u001b[1;31m# To get the full stack trace, call:\u001b[0m\u001b[1;33m\u001b[0m\u001b[1;33m\u001b[0m\u001b[0m\n\u001b[0;32m     69\u001b[0m             \u001b[1;31m# `tf.debugging.disable_traceback_filtering()`\u001b[0m\u001b[1;33m\u001b[0m\u001b[1;33m\u001b[0m\u001b[0m\n\u001b[1;32m---> 70\u001b[1;33m             \u001b[1;32mraise\u001b[0m \u001b[0me\u001b[0m\u001b[1;33m.\u001b[0m\u001b[0mwith_traceback\u001b[0m\u001b[1;33m(\u001b[0m\u001b[0mfiltered_tb\u001b[0m\u001b[1;33m)\u001b[0m \u001b[1;32mfrom\u001b[0m \u001b[1;32mNone\u001b[0m\u001b[1;33m\u001b[0m\u001b[1;33m\u001b[0m\u001b[0m\n\u001b[0m\u001b[0;32m     71\u001b[0m         \u001b[1;32mfinally\u001b[0m\u001b[1;33m:\u001b[0m\u001b[1;33m\u001b[0m\u001b[1;33m\u001b[0m\u001b[0m\n\u001b[0;32m     72\u001b[0m             \u001b[1;32mdel\u001b[0m \u001b[0mfiltered_tb\u001b[0m\u001b[1;33m\u001b[0m\u001b[1;33m\u001b[0m\u001b[0m\n",
      "\u001b[1;32m~\\anaconda3\\lib\\site-packages\\keras\\callbacks.py\u001b[0m in \u001b[0;36mset_model\u001b[1;34m(self, model)\u001b[0m\n\u001b[0;32m    305\u001b[0m             \u001b[0mmodel\u001b[0m\u001b[1;33m.\u001b[0m\u001b[0mhistory\u001b[0m \u001b[1;33m=\u001b[0m \u001b[0mself\u001b[0m\u001b[1;33m.\u001b[0m\u001b[0m_history\u001b[0m\u001b[1;33m\u001b[0m\u001b[1;33m\u001b[0m\u001b[0m\n\u001b[0;32m    306\u001b[0m         \u001b[1;32mfor\u001b[0m \u001b[0mcallback\u001b[0m \u001b[1;32min\u001b[0m \u001b[0mself\u001b[0m\u001b[1;33m.\u001b[0m\u001b[0mcallbacks\u001b[0m\u001b[1;33m:\u001b[0m\u001b[1;33m\u001b[0m\u001b[1;33m\u001b[0m\u001b[0m\n\u001b[1;32m--> 307\u001b[1;33m             \u001b[0mcallback\u001b[0m\u001b[1;33m.\u001b[0m\u001b[0mset_model\u001b[0m\u001b[1;33m(\u001b[0m\u001b[0mmodel\u001b[0m\u001b[1;33m)\u001b[0m\u001b[1;33m\u001b[0m\u001b[1;33m\u001b[0m\u001b[0m\n\u001b[0m\u001b[0;32m    308\u001b[0m \u001b[1;33m\u001b[0m\u001b[0m\n\u001b[0;32m    309\u001b[0m     \u001b[1;32mdef\u001b[0m \u001b[0m_call_batch_hook\u001b[0m\u001b[1;33m(\u001b[0m\u001b[0mself\u001b[0m\u001b[1;33m,\u001b[0m \u001b[0mmode\u001b[0m\u001b[1;33m,\u001b[0m \u001b[0mhook\u001b[0m\u001b[1;33m,\u001b[0m \u001b[0mbatch\u001b[0m\u001b[1;33m,\u001b[0m \u001b[0mlogs\u001b[0m\u001b[1;33m=\u001b[0m\u001b[1;32mNone\u001b[0m\u001b[1;33m)\u001b[0m\u001b[1;33m:\u001b[0m\u001b[1;33m\u001b[0m\u001b[1;33m\u001b[0m\u001b[0m\n",
      "\u001b[1;31mTypeError\u001b[0m: set_model() missing 1 required positional argument: 'model'"
     ]
    }
   ],
   "source": [
    "history = model.fit(train_data, epochs= 30 ,validation_data = val_data , callbacks = callbacks)"
   ]
  }
 ],
 "metadata": {
  "kernelspec": {
   "display_name": "Python 3 (ipykernel)",
   "language": "python",
   "name": "python3"
  },
  "language_info": {
   "codemirror_mode": {
    "name": "ipython",
    "version": 3
   },
   "file_extension": ".py",
   "mimetype": "text/x-python",
   "name": "python",
   "nbconvert_exporter": "python",
   "pygments_lexer": "ipython3",
   "version": "3.9.13"
  }
 },
 "nbformat": 4,
 "nbformat_minor": 5
}
