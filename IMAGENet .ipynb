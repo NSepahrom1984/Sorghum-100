{
 "cells": [
  {
   "cell_type": "code",
   "execution_count": 2,
   "metadata": {},
   "outputs": [],
   "source": [
    "import tensorflow as tf\n",
    "from tensorflow import keras\n",
    "from tensorflow.keras.preprocessing import image_dataset_from_directory\n",
    "\n",
    "# Import required libraries\n",
    "import os\n",
    "import numpy as np\n",
    "import pandas as pd\n",
    "import tensorflow as tf\n",
    "from tensorflow.keras.preprocessing.image import ImageDataGenerator\n",
    "from tensorflow.keras.applications.inception_v3 import InceptionV3\n",
    "from tensorflow.keras.layers import Dense, GlobalAveragePooling2D\n",
    "from tensorflow.keras.models import Model\n",
    "from keras import layers\n",
    "from keras.models import load_model"
   ]
  },
  {
   "cell_type": "code",
   "execution_count": 3,
   "metadata": {},
   "outputs": [
    {
     "data": {
      "text/html": [
       "<div>\n",
       "<style scoped>\n",
       "    .dataframe tbody tr th:only-of-type {\n",
       "        vertical-align: middle;\n",
       "    }\n",
       "\n",
       "    .dataframe tbody tr th {\n",
       "        vertical-align: top;\n",
       "    }\n",
       "\n",
       "    .dataframe thead th {\n",
       "        text-align: right;\n",
       "    }\n",
       "</style>\n",
       "<table border=\"1\" class=\"dataframe\">\n",
       "  <thead>\n",
       "    <tr style=\"text-align: right;\">\n",
       "      <th></th>\n",
       "      <th>image</th>\n",
       "      <th>cultivar</th>\n",
       "    </tr>\n",
       "  </thead>\n",
       "  <tbody>\n",
       "    <tr>\n",
       "      <th>0</th>\n",
       "      <td>2017-06-16__12-24-20-930.png</td>\n",
       "      <td>PI_257599</td>\n",
       "    </tr>\n",
       "    <tr>\n",
       "      <th>1</th>\n",
       "      <td>2017-06-02__16-48-57-866.png</td>\n",
       "      <td>PI_154987</td>\n",
       "    </tr>\n",
       "    <tr>\n",
       "      <th>2</th>\n",
       "      <td>2017-06-12__13-18-07-707.png</td>\n",
       "      <td>PI_92270</td>\n",
       "    </tr>\n",
       "    <tr>\n",
       "      <th>3</th>\n",
       "      <td>2017-06-22__13-18-06-841.png</td>\n",
       "      <td>PI_152651</td>\n",
       "    </tr>\n",
       "    <tr>\n",
       "      <th>4</th>\n",
       "      <td>2017-06-26__12-56-48-642.png</td>\n",
       "      <td>PI_176766</td>\n",
       "    </tr>\n",
       "  </tbody>\n",
       "</table>\n",
       "</div>"
      ],
      "text/plain": [
       "                          image   cultivar\n",
       "0  2017-06-16__12-24-20-930.png  PI_257599\n",
       "1  2017-06-02__16-48-57-866.png  PI_154987\n",
       "2  2017-06-12__13-18-07-707.png   PI_92270\n",
       "3  2017-06-22__13-18-06-841.png  PI_152651\n",
       "4  2017-06-26__12-56-48-642.png  PI_176766"
      ]
     },
     "execution_count": 3,
     "metadata": {},
     "output_type": "execute_result"
    }
   ],
   "source": [
    "train_cultivar= pd.read_csv('g:/sorghum/train_cultivar_mapping.csv')\n",
    "train_cultivar.dropna(inplace=True)\n",
    "train_cultivar['cultivar']=train_cultivar['cultivar'].astype(str)\n",
    "train_cultivar.head()\n"
   ]
  },
  {
   "cell_type": "code",
   "execution_count": 4,
   "metadata": {},
   "outputs": [],
   "source": [
    "labels=list(np.unique(train_cultivar['cultivar']))"
   ]
  },
  {
   "cell_type": "code",
   "execution_count": 5,
   "metadata": {},
   "outputs": [
    {
     "name": "stdout",
     "output_type": "stream",
     "text": [
      "Found 17755 validated image filenames belonging to 100 classes.\n",
      "Found 4438 validated image filenames belonging to 100 classes.\n"
     ]
    }
   ],
   "source": [
    "from keras.preprocessing.image import ImageDataGenerator\n",
    "\n",
    "# train_datagen = ImageDataGenerator(\n",
    "#     rotation_range=0.9,\n",
    "#     zoom_range=0.15,\n",
    "#     horizontal_flip=True,\n",
    "#     shear_range=0.2,\n",
    "#     validation_split=0.2\n",
    "# )\n",
    "\n",
    "train_datagen = ImageDataGenerator(\n",
    "  \n",
    "    validation_split=0.2\n",
    ")\n",
    "\n",
    "train1_data = train_datagen.flow_from_dataframe(\n",
    "    dataframe=train_cultivar,\n",
    "    directory=\"g:/sorghum/train_images/\",\n",
    "    x_col='image',\n",
    "    y_col='cultivar',\n",
    "    classes=labels ,\n",
    "    class_mode='categorical',\n",
    "    target_size=(300, 300),\n",
    "    batch_size=4,\n",
    "    subset='training',\n",
    "    shuffle=True\n",
    ")\n",
    "\n",
    "val1_data = train_datagen.flow_from_dataframe(\n",
    "    dataframe=train_cultivar,\n",
    "    directory=\"g:/sorghum/train_images/\",\n",
    "    x_col='image',\n",
    "    y_col='cultivar',\n",
    "    classes=labels ,\n",
    "    class_mode='categorical',\n",
    "    target_size=(300, 300),\n",
    "    batch_size=4,\n",
    "    subset='validation',\n",
    "    shuffle=True\n",
    ")"
   ]
  },
  {
   "cell_type": "code",
   "execution_count": 6,
   "metadata": {},
   "outputs": [],
   "source": [
    "conv_base = keras.applications.vgg16.VGG16(\n",
    "weights=\"imagenet\",\n",
    "include_top=False)\n",
    "conv_base.trainable = False"
   ]
  },
  {
   "cell_type": "code",
   "execution_count": 7,
   "metadata": {},
   "outputs": [],
   "source": [
    "data_augmentation = keras.Sequential(\n",
    "[\n",
    "layers.RandomFlip(\"horizontal\"),\n",
    "layers.RandomRotation(0.1),\n",
    "layers.RandomZoom(0.2),\n",
    "])\n",
    "\n",
    "inputs = keras.Input(shape=(300, 300, 3))\n",
    "x = data_augmentation(inputs)\n",
    "x = keras.applications.vgg16.preprocess_input(x)\n",
    "x = conv_base(x)\n",
    "x = layers.Flatten()(x)\n",
    "x = layers.Dense(256)(x)\n",
    "x = layers.Dropout(0.5)(x)\n",
    "outputs = layers.Dense(100, activation=\"softmax\")(x)\n",
    "\n",
    "model = keras.Model(inputs, outputs)\n",
    "\n",
    "model.compile(loss=\"categorical_crossentropy\",optimizer=\"rmsprop\",metrics=[\"accuracy\"])"
   ]
  },
  {
   "cell_type": "code",
   "execution_count": 22,
   "metadata": {},
   "outputs": [
    {
     "name": "stdout",
     "output_type": "stream",
     "text": [
      "Epoch 1/50\n",
      "4439/4439 [==============================] - 1006s 226ms/step - loss: 141.2430 - accuracy: 0.0513 - val_loss: 107.7741 - val_accuracy: 0.1284loss: 142. - ETA: 37s - loss:\n",
      "Epoch 2/50\n",
      "4439/4439 [==============================] - 881s 199ms/step - loss: 99.5718 - accuracy: 0.1008 - val_loss: 79.2990 - val_accuracy: 0.1393\n",
      "Epoch 3/50\n",
      "4439/4439 [==============================] - 899s 203ms/step - loss: 71.1804 - accuracy: 0.1067 - val_loss: 66.4255 - val_accuracy: 0.1345\n",
      "Epoch 4/50\n",
      "4439/4439 [==============================] - 895s 202ms/step - loss: 60.0302 - accuracy: 0.0996 - val_loss: 57.2422 - val_accuracy: 0.1309\n",
      "Epoch 5/50\n",
      "4439/4439 [==============================] - 932s 210ms/step - loss: 57.4903 - accuracy: 0.1015 - val_loss: 60.9007 - val_accuracy: 0.1131\n",
      "Epoch 6/50\n",
      "4439/4439 [==============================] - 835s 188ms/step - loss: 58.7703 - accuracy: 0.1057 - val_loss: 62.4565 - val_accuracy: 0.1174racy: 0. - ET\n",
      "Epoch 7/50\n",
      "4439/4439 [==============================] - 828s 186ms/step - loss: 60.7118 - accuracy: 0.1045 - val_loss: 66.8546 - val_accuracy: 0.1257\n",
      "Epoch 8/50\n",
      "4439/4439 [==============================] - 832s 187ms/step - loss: 62.7553 - accuracy: 0.1095 - val_loss: 61.8440 - val_accuracy: 0.1514\n",
      "Epoch 9/50\n",
      "4439/4439 [==============================] - 842s 190ms/step - loss: 64.9669 - accuracy: 0.1098 - val_loss: 72.3864 - val_accuracy: 0.1219\n",
      "Epoch 10/50\n",
      "4439/4439 [==============================] - 858s 193ms/step - loss: 66.6909 - accuracy: 0.1093 - val_loss: 68.6619 - val_accuracy: 0.1451\n",
      "Epoch 11/50\n",
      "4439/4439 [==============================] - 847s 191ms/step - loss: 68.5579 - accuracy: 0.1165 - val_loss: 64.8542 - val_accuracy: 0.1456\n",
      "Epoch 12/50\n",
      "4439/4439 [==============================] - 819s 185ms/step - loss: 69.6401 - accuracy: 0.1204 - val_loss: 68.0675 - val_accuracy: 0.1510\n",
      "Epoch 13/50\n",
      "4439/4439 [==============================] - 813s 183ms/step - loss: 70.8917 - accuracy: 0.1220 - val_loss: 74.1759 - val_accuracy: 0.1474 - ETA: 0s - loss: 70.8917 - accuracy: \n",
      "Epoch 14/50\n",
      "4439/4439 [==============================] - 825s 186ms/step - loss: 72.6203 - accuracy: 0.1235 - val_loss: 78.3261 - val_accuracy: 0.1435\n",
      "Epoch 15/50\n",
      "4439/4439 [==============================] - 838s 189ms/step - loss: 73.7454 - accuracy: 0.1288 - val_loss: 75.4509 - val_accuracy: 0.1690\n",
      "Epoch 16/50\n",
      "4439/4439 [==============================] - 839s 189ms/step - loss: 74.7139 - accuracy: 0.1293 - val_loss: 70.8407 - val_accuracy: 0.1620\n",
      "Epoch 17/50\n",
      "4439/4439 [==============================] - 814s 183ms/step - loss: 75.9489 - accuracy: 0.1285 - val_loss: 82.1716 - val_accuracy: 0.1598\n",
      "Epoch 18/50\n",
      "4439/4439 [==============================] - 822s 185ms/step - loss: 77.6514 - accuracy: 0.1332 - val_loss: 83.1765 - val_accuracy: 0.1537\n",
      "Epoch 19/50\n",
      "4439/4439 [==============================] - 826s 186ms/step - loss: 78.0817 - accuracy: 0.1342 - val_loss: 90.4165 - val_accuracy: 0.1521\n",
      "Epoch 20/50\n",
      "4439/4439 [==============================] - 908s 204ms/step - loss: 79.6832 - accuracy: 0.1337 - val_loss: 94.9332 - val_accuracy: 0.1546\n",
      "Epoch 21/50\n",
      "4439/4439 [==============================] - 847s 191ms/step - loss: 80.1863 - accuracy: 0.1487 - val_loss: 89.7241 - val_accuracy: 0.1694\n",
      "Epoch 22/50\n",
      "4439/4439 [==============================] - 818s 184ms/step - loss: 81.4996 - accuracy: 0.1447 - val_loss: 99.6685 - val_accuracy: 0.1557\n",
      "Epoch 23/50\n",
      "4439/4439 [==============================] - 829s 187ms/step - loss: 82.0209 - accuracy: 0.1501 - val_loss: 89.2862 - val_accuracy: 0.1679\n",
      "Epoch 24/50\n",
      "4439/4439 [==============================] - 827s 186ms/step - loss: 82.6131 - accuracy: 0.1474 - val_loss: 94.9012 - val_accuracy: 0.1586\n",
      "Epoch 25/50\n",
      "4439/4439 [==============================] - 833s 188ms/step - loss: 84.0359 - accuracy: 0.1476 - val_loss: 101.9754 - val_accuracy: 0.1507 loss: 84.00\n",
      "Epoch 26/50\n",
      "4439/4439 [==============================] - 831s 187ms/step - loss: 84.9755 - accuracy: 0.1492 - val_loss: 103.4036 - val_accuracy: 0.1629\n",
      "Epoch 27/50\n",
      "4439/4439 [==============================] - 822s 185ms/step - loss: 85.3567 - accuracy: 0.1545 - val_loss: 95.7961 - val_accuracy: 0.1683\n",
      "Epoch 28/50\n",
      "4439/4439 [==============================] - 827s 186ms/step - loss: 85.1473 - accuracy: 0.1558 - val_loss: 97.4322 - val_accuracy: 0.1667\n",
      "Epoch 29/50\n",
      "4439/4439 [==============================] - 828s 186ms/step - loss: 86.6786 - accuracy: 0.1578 - val_loss: 100.7901 - val_accuracy: 0.1663\n",
      "Epoch 30/50\n",
      "4439/4439 [==============================] - 830s 187ms/step - loss: 87.7477 - accuracy: 0.1592 - val_loss: 111.3480 - val_accuracy: 0.1458\n",
      "Epoch 31/50\n",
      "4439/4439 [==============================] - 841s 190ms/step - loss: 87.4200 - accuracy: 0.1653 - val_loss: 102.0594 - val_accuracy: 0.1746\n",
      "Epoch 32/50\n",
      "4439/4439 [==============================] - 824s 186ms/step - loss: 89.2125 - accuracy: 0.1613 - val_loss: 108.6920 - val_accuracy: 0.1559\n",
      "Epoch 33/50\n",
      "4439/4439 [==============================] - 846s 191ms/step - loss: 88.2179 - accuracy: 0.1685 - val_loss: 108.6903 - val_accuracy: 0.1573\n",
      "Epoch 34/50\n",
      "4439/4439 [==============================] - 846s 191ms/step - loss: 90.0019 - accuracy: 0.1673 - val_loss: 104.2208 - val_accuracy: 0.1746\n",
      "Epoch 35/50\n",
      "4439/4439 [==============================] - 848s 191ms/step - loss: 90.1312 - accuracy: 0.1724 - val_loss: 111.4978 - val_accuracy: 0.1794\n",
      "Epoch 36/50\n",
      "4439/4439 [==============================] - 907s 204ms/step - loss: 91.6535 - accuracy: 0.1646 - val_loss: 104.7887 - val_accuracy: 0.1749\n",
      "Epoch 37/50\n",
      "4439/4439 [==============================] - 874s 197ms/step - loss: 91.2958 - accuracy: 0.1741 - val_loss: 111.3079 - val_accuracy: 0.1733\n",
      "Epoch 38/50\n",
      "4439/4439 [==============================] - 831s 187ms/step - loss: 91.8427 - accuracy: 0.1731 - val_loss: 105.7553 - val_accuracy: 0.1956\n",
      "Epoch 39/50\n",
      "4439/4439 [==============================] - 841s 190ms/step - loss: 92.5110 - accuracy: 0.1810 - val_loss: 103.3864 - val_accuracy: 0.1895\n",
      "Epoch 40/50\n",
      "4439/4439 [==============================] - 844s 190ms/step - loss: 93.4616 - accuracy: 0.1820 - val_loss: 100.8640 - val_accuracy: 0.2064\n",
      "Epoch 41/50\n",
      "4439/4439 [==============================] - 837s 188ms/step - loss: 93.5966 - accuracy: 0.1809 - val_loss: 116.1236 - val_accuracy: 0.1780\n",
      "Epoch 42/50\n",
      "4439/4439 [==============================] - 822s 185ms/step - loss: 94.0818 - accuracy: 0.1851 - val_loss: 108.7035 - val_accuracy: 0.1879\n",
      "Epoch 43/50\n",
      "4439/4439 [==============================] - 840s 189ms/step - loss: 94.1959 - accuracy: 0.1792 - val_loss: 116.3758 - val_accuracy: 0.1823 - l - E\n",
      "Epoch 44/50\n",
      "4439/4439 [==============================] - 848s 191ms/step - loss: 95.1278 - accuracy: 0.1921 - val_loss: 121.8421 - val_accuracy: 0.1881\n",
      "Epoch 45/50\n",
      "4439/4439 [==============================] - 852s 192ms/step - loss: 94.7821 - accuracy: 0.1867 - val_loss: 115.4021 - val_accuracy: 0.1814ss: 94.7795 - acc\n",
      "Epoch 46/50\n",
      "4439/4439 [==============================] - 848s 191ms/step - loss: 96.9321 - accuracy: 0.1877 - val_loss: 121.6153 - val_accuracy: 0.1726\n",
      "Epoch 47/50\n",
      "4439/4439 [==============================] - 851s 192ms/step - loss: 96.4798 - accuracy: 0.1891 - val_loss: 110.6585 - val_accuracy: 0.2111\n",
      "Epoch 48/50\n",
      "4439/4439 [==============================] - 836s 188ms/step - loss: 96.6572 - accuracy: 0.1913 - val_loss: 118.2482 - val_accuracy: 0.1936\n",
      "Epoch 49/50\n",
      "4439/4439 [==============================] - 809s 182ms/step - loss: 96.2560 - accuracy: 0.1936 - val_loss: 120.7116 - val_accuracy: 0.1897\n",
      "Epoch 50/50\n",
      "4439/4439 [==============================] - 829s 187ms/step - loss: 96.8143 - accuracy: 0.1939 - val_loss: 120.9261 - val_accuracy: 0.1866\n"
     ]
    }
   ],
   "source": [
    "history = model.fit(train1_data,epochs=50,validation_data=val1_data,)"
   ]
  },
  {
   "cell_type": "code",
   "execution_count": 23,
   "metadata": {},
   "outputs": [],
   "source": [
    "\n",
    "model.save('g:/my_model.h5')"
   ]
  },
  {
   "cell_type": "code",
   "execution_count": 8,
   "metadata": {},
   "outputs": [],
   "source": [
    "model = load_model('g:/my_model.h5')"
   ]
  },
  {
   "cell_type": "code",
   "execution_count": 9,
   "metadata": {},
   "outputs": [
    {
     "name": "stdout",
     "output_type": "stream",
     "text": [
      "Epoch 1/20\n",
      "4439/4439 [==============================] - 1128s 253ms/step - loss: 97.8581 - accuracy: 0.1973 - val_loss: 119.1874 - val_accuracy: 0.1954\n",
      "Epoch 2/20\n",
      "4439/4439 [==============================] - 854s 192ms/step - loss: 97.7176 - accuracy: 0.1995 - val_loss: 130.5085 - val_accuracy: 0.2010\n",
      "Epoch 3/20\n",
      "4439/4439 [==============================] - 842s 190ms/step - loss: 99.2991 - accuracy: 0.1993 - val_loss: 130.1402 - val_accuracy: 0.1949\n",
      "Epoch 4/20\n",
      "4439/4439 [==============================] - 868s 196ms/step - loss: 98.2150 - accuracy: 0.2016 - val_loss: 117.1775 - val_accuracy: 0.2107\n",
      "Epoch 5/20\n",
      "4439/4439 [==============================] - 965s 217ms/step - loss: 100.3756 - accuracy: 0.2001 - val_loss: 117.2185 - val_accuracy: 0.2064\n",
      "Epoch 6/20\n",
      "4439/4439 [==============================] - 991s 223ms/step - loss: 99.7547 - accuracy: 0.2035 - val_loss: 152.4242 - val_accuracy: 0.1665\n",
      "Epoch 7/20\n",
      "4439/4439 [==============================] - 837s 188ms/step - loss: 99.8625 - accuracy: 0.2056 - val_loss: 132.7860 - val_accuracy: 0.1845\n",
      "Epoch 8/20\n",
      "4439/4439 [==============================] - 864s 195ms/step - loss: 99.1903 - accuracy: 0.2054 - val_loss: 128.4558 - val_accuracy: 0.1938\n",
      "Epoch 9/20\n",
      "4439/4439 [==============================] - 937s 211ms/step - loss: 102.4652 - accuracy: 0.2073 - val_loss: 133.1993 - val_accuracy: 0.1942\n",
      "Epoch 10/20\n",
      "4439/4439 [==============================] - 1097s 247ms/step - loss: 101.0844 - accuracy: 0.2143 - val_loss: 128.8380 - val_accuracy: 0.2082\n",
      "Epoch 11/20\n",
      "4439/4439 [==============================] - 857s 193ms/step - loss: 101.7108 - accuracy: 0.2086 - val_loss: 134.4455 - val_accuracy: 0.1884\n",
      "Epoch 12/20\n",
      "4439/4439 [==============================] - 804s 181ms/step - loss: 101.2272 - accuracy: 0.2130 - val_loss: 125.6180 - val_accuracy: 0.2210\n",
      "Epoch 13/20\n",
      "4439/4439 [==============================] - 867s 195ms/step - loss: 101.8449 - accuracy: 0.2110 - val_loss: 135.9766 - val_accuracy: 0.1886\n",
      "Epoch 14/20\n",
      "4439/4439 [==============================] - 943s 212ms/step - loss: 101.1516 - accuracy: 0.2148 - val_loss: 131.6021 - val_accuracy: 0.1963\n",
      "Epoch 15/20\n",
      "4439/4439 [==============================] - 948s 214ms/step - loss: 102.9043 - accuracy: 0.2162 - val_loss: 135.4027 - val_accuracy: 0.2050\n",
      "Epoch 16/20\n",
      "4439/4439 [==============================] - 849s 191ms/step - loss: 102.3586 - accuracy: 0.2153 - val_loss: 147.1721 - val_accuracy: 0.1909\n",
      "Epoch 17/20\n",
      "4439/4439 [==============================] - 801s 181ms/step - loss: 102.7486 - accuracy: 0.2223 - val_loss: 166.4236 - val_accuracy: 0.1685\n",
      "Epoch 18/20\n",
      "4439/4439 [==============================] - 856s 193ms/step - loss: 104.6602 - accuracy: 0.2215 - val_loss: 152.8967 - val_accuracy: 0.1818\n",
      "Epoch 19/20\n",
      "4439/4439 [==============================] - 1013s 228ms/step - loss: 103.8551 - accuracy: 0.2225 - val_loss: 143.0217 - val_accuracy: 0.2066\n",
      "Epoch 20/20\n",
      "4439/4439 [==============================] - 1052s 237ms/step - loss: 104.2738 - accuracy: 0.2238 - val_loss: 144.9955 - val_accuracy: 0.1947\n"
     ]
    }
   ],
   "source": [
    "history = model.fit(train1_data,epochs=20,validation_data=val1_data,)"
   ]
  },
  {
   "cell_type": "code",
   "execution_count": 10,
   "metadata": {},
   "outputs": [],
   "source": [
    "\n",
    "model.save('g:/my_model.h5')"
   ]
  },
  {
   "cell_type": "code",
   "execution_count": 11,
   "metadata": {},
   "outputs": [
    {
     "name": "stdout",
     "output_type": "stream",
     "text": [
      "Epoch 1/20\n",
      "4439/4439 [==============================] - 1034s 233ms/step - loss: 105.4766 - accuracy: 0.2238 - val_loss: 160.8630 - val_accuracy: 0.1771\n",
      "Epoch 2/20\n",
      "4439/4439 [==============================] - 891s 201ms/step - loss: 105.5019 - accuracy: 0.2221 - val_loss: 139.5099 - val_accuracy: 0.2129\n",
      "Epoch 3/20\n",
      "4439/4439 [==============================] - 832s 187ms/step - loss: 103.7964 - accuracy: 0.2349 - val_loss: 134.5840 - val_accuracy: 0.2129\n",
      "Epoch 4/20\n",
      "4439/4439 [==============================] - 870s 196ms/step - loss: 104.7957 - accuracy: 0.2290 - val_loss: 155.3305 - val_accuracy: 0.1850\n",
      "Epoch 5/20\n",
      "4439/4439 [==============================] - 902s 203ms/step - loss: 104.8691 - accuracy: 0.2306 - val_loss: 147.2242 - val_accuracy: 0.2001\n",
      "Epoch 6/20\n",
      "4439/4439 [==============================] - 987s 222ms/step - loss: 106.4930 - accuracy: 0.2311 - val_loss: 139.1079 - val_accuracy: 0.2247\n",
      "Epoch 7/20\n",
      "4439/4439 [==============================] - 924s 208ms/step - loss: 107.2238 - accuracy: 0.2348 - val_loss: 146.7939 - val_accuracy: 0.2041ss: 107.1106 - accuracy: 0.23 - ETA: 59s - los - ETA: 55s - loss: 107.1305 - accuracy: - ETA: 3 - ETA: 27s - loss: 107.2695 - accuracy: 0.234 - ETA: 26s - loss: 107.2826 - accuracy:  - ETA: 26s - loss: 107.2685 - ac - ETA: 23 -\n",
      "Epoch 8/20\n",
      "4439/4439 [==============================] - 836s 188ms/step - loss: 105.1077 - accuracy: 0.2393 - val_loss: 138.7812 - val_accuracy: 0.2172\n",
      "Epoch 9/20\n",
      "4439/4439 [==============================] - 918s 207ms/step - loss: 108.2398 - accuracy: 0.2308 - val_loss: 143.2419 - val_accuracy: 0.2091\n",
      "Epoch 10/20\n",
      "4439/4439 [==============================] - 988s 223ms/step - loss: 108.1002 - accuracy: 0.2329 - val_loss: 143.8785 - val_accuracy: 0.2114\n",
      "Epoch 11/20\n",
      "4439/4439 [==============================] - 963s 217ms/step - loss: 107.9724 - accuracy: 0.2389 - val_loss: 158.3656 - val_accuracy: 0.1879\n",
      "Epoch 12/20\n",
      "4439/4439 [==============================] - 880s 198ms/step - loss: 108.5915 - accuracy: 0.2364 - val_loss: 145.4563 - val_accuracy: 0.2217\n",
      "Epoch 13/20\n",
      "4439/4439 [==============================] - 915s 206ms/step - loss: 108.2022 - accuracy: 0.2376 - val_loss: 144.6834 - val_accuracy: 0.2143\n",
      "Epoch 14/20\n",
      "4439/4439 [==============================] - 1061s 239ms/step - loss: 109.2115 - accuracy: 0.2406 - val_loss: 144.8275 - val_accuracy: 0.2168\n",
      "Epoch 15/20\n",
      "4439/4439 [==============================] - 965s 217ms/step - loss: 110.0431 - accuracy: 0.2388 - val_loss: 157.8063 - val_accuracy: 0.1994\n",
      "Epoch 16/20\n",
      "4439/4439 [==============================] - 913s 206ms/step - loss: 109.4214 - accuracy: 0.2379 - val_loss: 142.4549 - val_accuracy: 0.2267\n",
      "Epoch 17/20\n",
      "4439/4439 [==============================] - 863s 194ms/step - loss: 109.1403 - accuracy: 0.2461 - val_loss: 169.6301 - val_accuracy: 0.1999\n",
      "Epoch 18/20\n",
      "4439/4439 [==============================] - 948s 214ms/step - loss: 109.4966 - accuracy: 0.2467 - val_loss: 166.8588 - val_accuracy: 0.1888\n",
      "Epoch 19/20\n",
      "4439/4439 [==============================] - 980s 221ms/step - loss: 110.6067 - accuracy: 0.2424 - val_loss: 143.9171 - val_accuracy: 0.2296\n",
      "Epoch 20/20\n",
      "4439/4439 [==============================] - 942s 212ms/step - loss: 109.7126 - accuracy: 0.2457 - val_loss: 160.7951 - val_accuracy: 0.1954\n"
     ]
    }
   ],
   "source": [
    "history = model.fit(train1_data,epochs=20,validation_data=val1_data,)"
   ]
  },
  {
   "cell_type": "code",
   "execution_count": 12,
   "metadata": {},
   "outputs": [],
   "source": [
    "\n",
    "model.save('g:/my_model.h5')"
   ]
  },
  {
   "cell_type": "code",
   "execution_count": null,
   "metadata": {},
   "outputs": [],
   "source": []
  }
 ],
 "metadata": {
  "kernelspec": {
   "display_name": "Python 3",
   "language": "python",
   "name": "python3"
  },
  "language_info": {
   "codemirror_mode": {
    "name": "ipython",
    "version": 3
   },
   "file_extension": ".py",
   "mimetype": "text/x-python",
   "name": "python",
   "nbconvert_exporter": "python",
   "pygments_lexer": "ipython3",
   "version": "3.8.3"
  }
 },
 "nbformat": 4,
 "nbformat_minor": 4
}
